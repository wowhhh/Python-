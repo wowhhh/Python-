{
 "cells": [
  {
   "cell_type": "markdown",
   "metadata": {},
   "source": [
    "# 元组- tuple\n",
    "- 元祖可以看成是一个不可更改的List，一旦赋值就不可以改变\n",
    "\n",
    "## 元组创建\n"
   ]
  },
  {
   "cell_type": "code",
   "execution_count": 6,
   "metadata": {
    "scrolled": true
   },
   "outputs": [
    {
     "name": "stdout",
     "output_type": "stream",
     "text": [
      "<class 'tuple'>\n",
      "<class 'tuple'>\n",
      "(1,)\n",
      "<class 'int'>\n",
      "1\n",
      "(1, 2, 3, 4, 5)\n",
      "<class 'list'>\n",
      "<class 'tuple'>\n"
     ]
    }
   ],
   "source": [
    "# 创建空元组\n",
    "t = ()\n",
    "print(type(t))\n",
    "\n",
    "# 创建只有一个值的元组\n",
    "t = (1,)\n",
    "# t = 1,  这样写也可以，不太推崇\n",
    "print(type(t))\n",
    "print(t)\n",
    "\n",
    "# 特例了,一个值的时候值后面要加个逗号，否则就是Int类型了\n",
    "t = (1)\n",
    "print(type(t))\n",
    "print(t)\n",
    "\n",
    "# 创建多个值\n",
    "t = (1,2,3,4,5)\n",
    "# 或者 t = 1,2,3,4,5\n",
    "print(t)\n",
    "\n",
    "l = [1,2,3,4,5]\n",
    "print(type(l))\n",
    "l = tuple(l)\n",
    "print(type(l))"
   ]
  },
  {
   "cell_type": "markdown",
   "metadata": {},
   "source": [
    "## 元祖特性\n",
    "- 是有序列表\n",
    "- 元组数据值可以访问，不能修改，不能修改，不能修改\n",
    "- 元组数据可以是任意类型的\n",
    "- 总之,list所以的特性，除了不可以修改，元组都有"
   ]
  }
 ],
 "metadata": {
  "kernelspec": {
   "display_name": "Python 3",
   "language": "python",
   "name": "python3"
  },
  "language_info": {
   "codemirror_mode": {
    "name": "ipython",
    "version": 3
   },
   "file_extension": ".py",
   "mimetype": "text/x-python",
   "name": "python",
   "nbconvert_exporter": "python",
   "pygments_lexer": "ipython3",
   "version": "3.7.3"
  }
 },
 "nbformat": 4,
 "nbformat_minor": 2
}
