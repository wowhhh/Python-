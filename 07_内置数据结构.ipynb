{
 "cells": [
  {
   "cell_type": "markdown",
   "metadata": {},
   "source": [
    "# 汉诺塔问题\n",
    "- 每次只能移动一个盘子\n",
    "- 任何一次移动，三个塔的状态，必须是小盘子在上，大盘子在下\n",
    "\n",
    "        - n=1时候   A->C\n",
    "        - n=2时候   A->B  A->C  B->C  借助B盘\n",
    "        - n=3时候   \n",
    "                - 把A上的两个盘子，通过c移动到b上\n",
    "                - 把A的大盘子，移动到C上\n",
    "                - 把B上两个盘子借助A移动到C上\n",
    "        - n=n时候\n",
    "                - 把A上的n-1个盘子，借助C移动到B上\n",
    "                - 把A上的最大盘子，移动到C上\n",
    "                - B上n-1个盘子借助A移动到B上"
   ]
  }
 ],
 "metadata": {
  "kernelspec": {
   "display_name": "Python 3",
   "language": "python",
   "name": "python3"
  },
  "language_info": {
   "codemirror_mode": {
    "name": "ipython",
    "version": 3
   },
   "file_extension": ".py",
   "mimetype": "text/x-python",
   "name": "python",
   "nbconvert_exporter": "python",
   "pygments_lexer": "ipython3",
   "version": "3.7.3"
  }
 },
 "nbformat": 4,
 "nbformat_minor": 2
}
