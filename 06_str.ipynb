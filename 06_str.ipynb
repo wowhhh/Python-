{
 "cells": [
  {
   "cell_type": "markdown",
   "metadata": {},
   "source": [
    "# str字符串\n",
    "- str\n",
    "- 转义字符\n",
    "- 格式化\n",
    "- 内建函数"
   ]
  },
  {
   "cell_type": "markdown",
   "metadata": {},
   "source": [
    "## 字符串\n",
    "- 表示文字信息\n",
    "- 用单引号、双引号、三引号括起来"
   ]
  },
  {
   "cell_type": "markdown",
   "metadata": {},
   "source": [
    "## 转义字符\n",
    "- 用一个特色的方法表示一系列不方便写出的内容\n",
    "- 回车键、换行符、退格键\n",
    "- \\，反斜杠后面一个或者几个字符\n",
    "- 不同操作系统对换行操作可能有不同的表示\n",
    "    - \\n    Windows\n",
    "    - \\r\\n  Linux"
   ]
  },
  {
   "cell_type": "code",
   "execution_count": 3,
   "metadata": {},
   "outputs": [
    {
     "name": "stdout",
     "output_type": "stream",
     "text": [
      "Let's Go\n",
      "Let's Go\n"
     ]
    }
   ],
   "source": [
    "# 显示Let's Go\n",
    "a = \"Let's Go\"\n",
    "print(a)\n",
    "\n",
    "a= 'Let\\'s Go'\n",
    "print(a)"
   ]
  },
  {
   "cell_type": "markdown",
   "metadata": {},
   "source": [
    "## 常用的转义字符"
   ]
  },
  {
   "cell_type": "code",
   "execution_count": 4,
   "metadata": {},
   "outputs": [
    {
     "name": "stdout",
     "output_type": "stream",
     "text": [
      "3\n"
     ]
    }
   ],
   "source": [
    "# 单个斜杠的用法，告诉系统此行没结束，续行符\n",
    "def myDemo( x,\\\n",
    "           y):\n",
    "    print(x+y)\n",
    "    \n",
    "myDemo(1,2)"
   ]
  },
  {
   "cell_type": "markdown",
   "metadata": {},
   "source": [
    "## 格式化\n",
    "- 把字符串按照一定的格式进行打印或者填充\n",
    "- 格式化分类：\n",
    "    - 传统格式化\n",
    "    - format"
   ]
  },
  {
   "cell_type": "code",
   "execution_count": null,
   "metadata": {},
   "outputs": [],
   "source": []
  },
  {
   "cell_type": "code",
   "execution_count": 6,
   "metadata": {},
   "outputs": [
    {
     "name": "stdout",
     "output_type": "stream",
     "text": [
      "23333\n",
      "24444\n"
     ]
    }
   ],
   "source": [
    "# 填充\n",
    "s = \"23333\"\n",
    "print(s)\n",
    "\n",
    "s = \"24444\"\n",
    "print(s)"
   ]
  },
  {
   "cell_type": "markdown",
   "metadata": {},
   "source": [
    "### 传统格式化方法\n",
    "- 使用 % 进行格式化\n",
    "- % 也叫占位符\n",
    "          \n",
    "          %s: 字符串\n",
    "          %r: 字符串，但是是使用repe而不是str\n",
    "          %c: 整数转换为单个字符\n",
    "          %d: 十进制整数\n",
    "          %u: 无符号整数\n",
    "          %o: 表示八进制\n",
    "          %x: 十六进制，字母为小写\n",
    "          %X: 十六进制，字母为大写\n",
    "          %e: 浮点数，eg:2.87e+12\n",
    "          %E: 浮点数，eg:2.87E+12\n",
    "          %f,%F: 浮点数十进制形式\n",
    "          %g,%G: 十进制形式浮点或者指数浮点自动转换\n",
    "         \n",
    "          格式字符前出现整数表示此占位符所占位置的宽度\n",
    "          格式字符前出现‘-’ 表示左对齐\n",
    "          格式字符前出现‘+’ 表示右对齐\n",
    "         \n",
    "         0位数不足用‘0’补齐\n",
    "          width表示宽度\n",
    "          pricision精度"
   ]
  },
  {
   "cell_type": "code",
   "execution_count": 10,
   "metadata": {},
   "outputs": [
    {
     "name": "stdout",
     "output_type": "stream",
     "text": [
      "2333\n",
      "2 444\n",
      "2 444\n"
     ]
    }
   ],
   "source": [
    "# eg：%s\n",
    "s = \"2%s\"\n",
    "print(s%'333')\n",
    "\n",
    "print(\"2 %s\"%444)# 占位符一般只能被同类型替换，或者替换类型能够被替换成占位符的类型\n",
    "print(\"2 %s\"%'444')"
   ]
  },
  {
   "cell_type": "code",
   "execution_count": 11,
   "metadata": {},
   "outputs": [
    {
     "name": "stdout",
     "output_type": "stream",
     "text": [
      "3 岁\n"
     ]
    }
   ],
   "source": [
    "# %d\n",
    "s = \"%d 岁\"\n",
    "print(s%3)"
   ]
  },
  {
   "cell_type": "code",
   "execution_count": 13,
   "metadata": {},
   "outputs": [
    {
     "name": "stdout",
     "output_type": "stream",
     "text": [
      "77.500000 and 43.400000\n",
      "77.50 and 43.40\n"
     ]
    }
   ],
   "source": [
    "# 多个,用括号括起来\n",
    "s = '%f and %f'\n",
    "print(s%(77.5,43.4))\n",
    "\n",
    "s = '%.2f and %.2f'\n",
    "print(s%(77.5,43.4))"
   ]
  },
  {
   "cell_type": "markdown",
   "metadata": {},
   "source": [
    "## format格式化\n",
    "- 使用函数形式进行格式化，代替以前的百分号"
   ]
  },
  {
   "cell_type": "code",
   "execution_count": 17,
   "metadata": {},
   "outputs": [
    {
     "name": "stdout",
     "output_type": "stream",
     "text": [
      "1 2!\n",
      "1 2!\n"
     ]
    }
   ],
   "source": [
    "# 不用指定位置，按照顺序读取\n",
    "s = \"{} {}!\"\n",
    "print(s.format(\"1\",\"2\"))#foramt里面放置参数\n",
    "\n",
    "s = \"{} {}!\".format(1,2)\n",
    "print(s)"
   ]
  },
  {
   "cell_type": "code",
   "execution_count": 19,
   "metadata": {},
   "outputs": [
    {
     "name": "stdout",
     "output_type": "stream",
     "text": [
      "2,1\n",
      "1,2\n"
     ]
    }
   ],
   "source": [
    "# 设置指定位置\n",
    "s = \"{0},{1}\".format(\"2\",\"1\")\n",
    "print(s)\n",
    "\n",
    "s = \"{1},{0}\".format(\"2\",\"1\")\n",
    "print(s)"
   ]
  },
  {
   "cell_type": "code",
   "execution_count": null,
   "metadata": {},
   "outputs": [],
   "source": []
  },
  {
   "cell_type": "code",
   "execution_count": null,
   "metadata": {},
   "outputs": [],
   "source": []
  },
  {
   "cell_type": "code",
   "execution_count": null,
   "metadata": {},
   "outputs": [],
   "source": []
  },
  {
   "cell_type": "code",
   "execution_count": null,
   "metadata": {},
   "outputs": [],
   "source": []
  },
  {
   "cell_type": "code",
   "execution_count": null,
   "metadata": {},
   "outputs": [],
   "source": []
  },
  {
   "cell_type": "code",
   "execution_count": null,
   "metadata": {},
   "outputs": [],
   "source": []
  },
  {
   "cell_type": "code",
   "execution_count": null,
   "metadata": {},
   "outputs": [],
   "source": []
  },
  {
   "cell_type": "code",
   "execution_count": null,
   "metadata": {},
   "outputs": [],
   "source": []
  },
  {
   "cell_type": "code",
   "execution_count": null,
   "metadata": {},
   "outputs": [],
   "source": []
  }
 ],
 "metadata": {
  "kernelspec": {
   "display_name": "Python 3",
   "language": "python",
   "name": "python3"
  },
  "language_info": {
   "codemirror_mode": {
    "name": "ipython",
    "version": 3
   },
   "file_extension": ".py",
   "mimetype": "text/x-python",
   "name": "python",
   "nbconvert_exporter": "python",
   "pygments_lexer": "ipython3",
   "version": "3.7.3"
  }
 },
 "nbformat": 4,
 "nbformat_minor": 2
}
