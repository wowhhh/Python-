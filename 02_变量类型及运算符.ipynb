{
 "cells": [
  {
   "cell_type": "markdown",
   "metadata": {},
   "source": [
    "# 注释\n",
    "- 写法：\n",
    "    - 行注释：# \n",
    "    - 块注释：'''  '''"
   ]
  },
  {
   "cell_type": "code",
   "execution_count": 1,
   "metadata": {},
   "outputs": [
    {
     "data": {
      "text/plain": [
       "'\\n块注释\\n测试\\n'"
      ]
     },
     "execution_count": 1,
     "metadata": {},
     "output_type": "execute_result"
    }
   ],
   "source": [
    "#行注释测试\n",
    "'''\n",
    "块注释\n",
    "测试\n",
    "'''"
   ]
  },
  {
   "cell_type": "markdown",
   "metadata": {},
   "source": [
    "# 变量\n",
    "- 程序=数据结构+算法\n",
    "- 变量就是可以重复使用的一个量，或者称为一个代号。java中定义一个变量（int i）\n",
    "    - 数字，大小写字母以及下划线或者更多。尽量用数字和字母以及下划线。\n",
    "    - 数字不可以打头。\n",
    "    - 一般下划线具有特殊含义。\n",
    "    - 大小写敏感\n",
    "    - 推荐：\n",
    "        - 使用英文单词以及缩写。\n",
    "        - 驼峰命名法：\n",
    "            - 大驼峰：单词链接，每个单词首字母大写。一般给类命名用这个方法。\n",
    "            - 小驼峰：首字母大写即可。\n",
    "            - posix写法：单词下划线连接，全部小写。\n",
    "    - 保留字和关键字\n",
    "        - 避开\n",
    "        - class, def, break, for"
   ]
  },
  {
   "cell_type": "code",
   "execution_count": 2,
   "metadata": {},
   "outputs": [
    {
     "name": "stdout",
     "output_type": "stream",
     "text": [
      "['False', 'None', 'True', 'and', 'as', 'assert', 'break', 'class', 'continue', 'def', 'del', 'elif', 'else', 'except', 'finally', 'for', 'from', 'global', 'if', 'import', 'in', 'is', 'lambda', 'nonlocal', 'not', 'or', 'pass', 'raise', 'return', 'try', 'while', 'with', 'yield']\n"
     ]
    }
   ],
   "source": [
    "#查看关键字的方法\n",
    "import keyword #引入关键字的模块\n",
    "#打印出系统全部关键字\n",
    "print(keyword.kwlist)"
   ]
  },
  {
   "cell_type": "markdown",
   "metadata": {},
   "source": [
    "# 变量声明\n",
    "- var_name = var_value\n",
    "- var1 = var2 = var3 = var_value"
   ]
  },
  {
   "cell_type": "code",
   "execution_count": 5,
   "metadata": {},
   "outputs": [
    {
     "name": "stdout",
     "output_type": "stream",
     "text": [
      "18\n",
      "18\n",
      "18\n",
      "18\n",
      "18\n",
      "12\n",
      "21\n",
      "46\n"
     ]
    }
   ],
   "source": [
    "#定义变量age,把18放入变量age\n",
    "age=18\n",
    "print(age)\n",
    "print(18)\n",
    "\n",
    "#给age1,age2,age3放入同样一个值\n",
    "age1=age2=age3=18\n",
    "print(age1)\n",
    "print(age2)\n",
    "print(age3)\n",
    "\n",
    "#一次给三个变量复制\n",
    "age4, age5, age6=12,21,46\n",
    "print(age4)\n",
    "print(age5)\n",
    "print(age6)"
   ]
  },
  {
   "cell_type": "markdown",
   "metadata": {},
   "source": [
    "# # 变量类型\n",
    "- 严格意义：一种\n",
    "- 六种\n",
    "    - 数字类型 Number\n",
    "    - 字符串类型 str\n",
    "    - 列表类型 list\n",
    "    - 字典类型 Dictionary\n",
    "    - 集合类型 set\n",
    "    - 元祖类型 tuple"
   ]
  },
  {
   "cell_type": "markdown",
   "metadata": {},
   "source": [
    "## Number 数字类型\n",
    "- 数字类型没有大小限制\n",
    "### 整数\n",
    "- 没有小数部分，表示个数\n",
    "- 自然数，0，负自然数\n",
    "- 分进制\n",
    "    - 二进制\n",
    "        - 机器常用，0,1\n",
    "        - 表示为0b开头的01代码\n",
    "        - eg:0b01101\n",
    "    - 八进制\n",
    "        - 以0o开头的包含0-7的数字\n",
    "    - 十六进制\n",
    "        - 0-9，a-f\n",
    "        - 0x开头\n",
    "    - 十进制"
   ]
  },
  {
   "cell_type": "code",
   "execution_count": 8,
   "metadata": {},
   "outputs": [
    {
     "name": "stdout",
     "output_type": "stream",
     "text": [
      "22\n",
      "22\n",
      "22\n",
      "22\n"
     ]
    }
   ],
   "source": [
    "#整数\n",
    "age=22\n",
    "print(age)\n",
    "age=0b10110#二进制表示22这个数字\n",
    "print(age)\n",
    "age=0o26\n",
    "print(age)\n",
    "age=0x16\n",
    "print(age)"
   ]
  },
  {
   "cell_type": "markdown",
   "metadata": {},
   "source": [
    "### 浮点数\n",
    "- 小数\n",
    "- 计算机里表示浮点数可以有条件省略\n",
    "- 3.1415\n",
    "- 3.0也可以表示为3.\n",
    "- 0.5也可以表示为.5\n",
    "- 科学计数法\n",
    "    - 与数学定义一样\n",
    "    - 写法用e/E后边跟整数表示10的指数\n",
    "    - 176.34=1.7634e2\n",
    "    - 0.5324=5.324e-1"
   ]
  },
  {
   "cell_type": "code",
   "execution_count": 9,
   "metadata": {},
   "outputs": [
    {
     "name": "stdout",
     "output_type": "stream",
     "text": [
      "145.68\n",
      "0.2\n",
      "0.3\n"
     ]
    }
   ],
   "source": [
    "height=145.68\n",
    "print(height)\n",
    "\n",
    "sight=0.2\n",
    "print(sight)\n",
    "sight2=.3\n",
    "print(sight2)"
   ]
  },
  {
   "cell_type": "markdown",
   "metadata": {},
   "source": [
    "### 复数complex\n",
    "- 定义同数学\n",
    "- 实部加虚部\n",
    "- 虚部用j/J表示\n",
    "- 5+3j\n",
    "- 3j 省略实部"
   ]
  },
  {
   "cell_type": "markdown",
   "metadata": {},
   "source": [
    "### 布尔值\n",
    "- 表示真假的值\n",
    "- 真：True。1\n",
    "- 假：False。0\n",
    "- 写法唯一，首字母大写"
   ]
  },
  {
   "cell_type": "markdown",
   "metadata": {},
   "source": [
    "### 字符串\n",
    "- 用来表示一串文字信息\n",
    "- 表示方法：\n",
    "    - 单引号\n",
    "    - 双引号\n",
    "    - 三引号（三个单引号，三个双引号）\n",
    "        - 能够扩起多行信息\n",
    "- 单双引号交错使用"
   ]
  },
  {
   "cell_type": "code",
   "execution_count": 5,
   "metadata": {},
   "outputs": [
    {
     "name": "stdout",
     "output_type": "stream",
     "text": [
      "shuang yin hao\n",
      "双引号\n",
      "dan yin hao\n",
      "单引号\n",
      "san dan yin hao\n",
      "<a style=\"color:red\">哈哈哈</a>\n",
      "\n",
      "多\n",
      "行\n",
      "测\n",
      "试\n",
      "\n"
     ]
    }
   ],
   "source": [
    "string1=\"shuang yin hao\"\n",
    "print(string1)\n",
    "string2=\"双引号\"\n",
    "print(string2)\n",
    "string3='dan yin hao'\n",
    "print(string3)\n",
    "string4='单引号'\n",
    "print(string4)\n",
    "string5='''san dan yin hao'''\n",
    "print(string5)\n",
    "#单双引号交错使用的例子,emmm转义\n",
    "#<a style=\"color:red\">哈哈哈</a>\n",
    "html='<a style=\"color:red\">哈哈哈</a>'\n",
    "print(html)\n",
    "htmls=\"\"\"\n",
    "多\n",
    "行\n",
    "测\n",
    "试\n",
    "\"\"\"\n",
    "print(htmls)"
   ]
  },
  {
   "cell_type": "markdown",
   "metadata": {
    "collapsed": true
   },
   "source": [
    "# None类型\n",
    "- 表示什么都没有，通常用来占位\n",
    "- 返回值"
   ]
  },
  {
   "cell_type": "markdown",
   "metadata": {
    "collapsed": true
   },
   "source": [
    "## 表达式\n",
    "- 由一个或者几个数字或者变量和运算符组合成的一行代码\n",
    "- 通常会返回一个结果 # 运算符\n",
    "- 由一个以上的值经过变化得到新值的过程就叫运算\n",
    "- 用于运算的符号叫运算符\n",
    "- 运算符分类：\n",
    "    - 算数运算符\n",
    "    - 比较或者关系运算符\n",
    "    - 赋值运算符\n",
    "    - 逻辑运算符\n",
    "    - 位运算\n",
    "    - 成员运算\n",
    "    - 身份运算符"
   ]
  },
  {
   "cell_type": "code",
   "execution_count": 1,
   "metadata": {},
   "outputs": [
    {
     "name": "stdout",
     "output_type": "stream",
     "text": [
      "10\n",
      "36\n",
      "2.25\n",
      "1\n",
      "2\n",
      "6561\n",
      "27\n"
     ]
    }
   ],
   "source": [
    "# +,-跟正常算术运算符一模一样\n",
    "a = 9+3-2\n",
    "print(a)\n",
    "# 乘号用星号(*)代替\n",
    "a = 9 * 4\n",
    "print(a)\n",
    "# 除号用斜杠(/)代替\n",
    "# 在Python2.x 和python3.x 中，除号(/)结果可能不一致，此处以3系列为准\n",
    "a = 9/4\n",
    "print(a)\n",
    "\n",
    "\n",
    "# % 取余运算\n",
    "# 两个数字相除应该有商数有余数\n",
    "# % 只会得到余数\n",
    "a = 9 % 4\n",
    "print(a)\n",
    "\n",
    "# // 表示取商运算，也叫地板除\n",
    "a = 9 // 4\n",
    "print(a)\n",
    "\n",
    "# ** 表示幂运算\n",
    "a = 9 ** 4\n",
    "print(a)\n",
    "\n",
    "a = 3 ** 3\n",
    "print(a)"
   ]
  },
  {
   "cell_type": "markdown",
   "metadata": {},
   "source": [
    "## 比较运算符\n",
    "- 对两个变量或者值进行比较的运算符\n",
    "- 比较的结果是布尔值，即True/False"
   ]
  },
  {
   "cell_type": "code",
   "execution_count": 2,
   "metadata": {},
   "outputs": [
    {
     "name": "stdout",
     "output_type": "stream",
     "text": [
      "False\n",
      "True\n"
     ]
    }
   ],
   "source": [
    "# == , 等于号\n",
    "a = 3 ** 4\n",
    "# 下面语句执行书序是\n",
    "# 1， 计算 a == 80\n",
    "# 2. 把结果放入b中\n",
    "b = a == 80\n",
    "print(b)\n",
    "\n",
    "\n",
    "# != 不等于\n",
    "print( 9 != 8 )\n",
    "\n",
    "# > 大于\n",
    "# < 小于\n",
    "# >= 大于等于\n",
    "# <= 小于等于"
   ]
  },
  {
   "cell_type": "markdown",
   "metadata": {},
   "source": [
    "## 赋值运算符"
   ]
  },
  {
   "cell_type": "code",
   "execution_count": 3,
   "metadata": {},
   "outputs": [
    {
     "name": "stdout",
     "output_type": "stream",
     "text": [
      "7\n"
     ]
    }
   ],
   "source": [
    "\n",
    "# = , 赋值\n",
    "a = 0\n",
    "c = a = 4\n",
    "\n",
    "# +=, 是缩写，\n",
    "a = 0\n",
    "a += 7 # a = a+ 7 的缩写\n",
    "print(a)\n",
    "\n",
    "\n",
    "# 所有数学运算符都有缩写形式\n",
    "# -=， ×=， /=, //=, %=, **=,都是缩写形式"
   ]
  },
  {
   "cell_type": "markdown",
   "metadata": {},
   "source": [
    "## 逻辑运算符\n",
    "- 对布尔值进行计算的符号\n",
    "- and 逻辑与\n",
    "- or 逻辑或\n",
    "- not 逻辑非\n",
    "- python中逻辑运算没有异或运算\n",
    "- 运算规则：\n",
    "    - and看做乘法， or看做加法，\n",
    "    - True看做1， False看做0\n",
    "    - 则逻辑运算就能转换成整数数学运算\n",
    "    - 最后结果如果是0则为False， 否则为True\n",
    "- 逻辑运算的短路问题\n",
    "- 逻辑运算式，按照运算顺序计算，一旦能够确定整个式子未来的值，则不再进行计算，直接返回"
   ]
  },
  {
   "cell_type": "code",
   "execution_count": 4,
   "metadata": {},
   "outputs": [
    {
     "ename": "SyntaxError",
     "evalue": "invalid syntax (<ipython-input-4-8619d3c1d729>, line 23)",
     "output_type": "error",
     "traceback": [
      "\u001b[1;36m  File \u001b[1;32m\"<ipython-input-4-8619d3c1d729>\"\u001b[1;36m, line \u001b[1;32m23\u001b[0m\n\u001b[1;33m    a = a or (b=9) and 6\u001b[0m\n\u001b[1;37m               ^\u001b[0m\n\u001b[1;31mSyntaxError\u001b[0m\u001b[1;31m:\u001b[0m invalid syntax\n"
     ]
    }
   ],
   "source": [
    "# 逻辑运算符案例\n",
    "a = True\n",
    "b = False\n",
    "c = True\n",
    "\n",
    "# 以下式子等价于 d = 1 * 0 + 1\n",
    "d = a and b or c\n",
    "print(d)\n",
    "\n",
    "\n",
    "d = a or b and a\n",
    "print(d)\n",
    "\n",
    "\n",
    "# 逻辑运算的短路案例\n",
    "\n",
    "# 下面的逻辑表达式，a的值一定是True，则运行到or的时候，整个表达式不在向下计算\n",
    "a = True or xxxxxxxxxxx\n",
    "\n",
    "# 下面表达式，如果xxx中包含赋值表达式，则结果很难预期\n",
    "# 代码示例（伪代码)\n",
    "b = 0\n",
    "a = a or (b=9) and 6\n",
    "# 假定上面表达式如果没有语法错误\n",
    "# 则b最终的值应该是0而不是9\n",
    "print(b)\n",
    "print(a)"
   ]
  },
  {
   "cell_type": "markdown",
   "metadata": {},
   "source": [
    "## 成员运算符号\n",
    "- 用来检测某一个变量是否是另一个变量的成员\n",
    "- in\n",
    "- not in"
   ]
  },
  {
   "cell_type": "code",
   "execution_count": 5,
   "metadata": {},
   "outputs": [
    {
     "name": "stdout",
     "output_type": "stream",
     "text": [
      "False\n",
      "True\n",
      "False\n"
     ]
    }
   ],
   "source": [
    "# 案例\n",
    "l = [1,2,3,4,5]\n",
    "a = 7\n",
    "\n",
    "b = a in l\n",
    "print(b)\n",
    "\n",
    "a = 4\n",
    "print(a in l)\n",
    "\n",
    "print(a not in l)"
   ]
  },
  {
   "cell_type": "markdown",
   "metadata": {},
   "source": [
    "## 身份运算\n",
    "- is: 用来检测两个变量是否是同一个变量\n",
    "- 语法就是 var1 is var2\n",
    "- is not: 两个变量不是同一个变量"
   ]
  },
  {
   "cell_type": "code",
   "execution_count": 6,
   "metadata": {},
   "outputs": [
    {
     "name": "stdout",
     "output_type": "stream",
     "text": [
      "True\n",
      "False\n"
     ]
    }
   ],
   "source": [
    "\n",
    "a = 9\n",
    "b = 9\n",
    "print( a is b)\n",
    "\n",
    "a = \"I love wangxiaojing\"\n",
    "b = \"I love wangxiaojing\"\n",
    "print( a is b)"
   ]
  },
  {
   "cell_type": "markdown",
   "metadata": {},
   "source": [
    "# 运算符的优先级问题\n",
    "- 永远记住，括号具有最高优先级\n",
    "- 优先级表格\n",
    "\n",
    "      **  指数 (最高优先级)\n",
    "      ~ + -   按位翻转, 一元加号和减号 (最后两个的方法名为 +@ 和 -@)\n",
    "      * / % //    乘，除，取模和取整除\n",
    "      + - 加法减法\n",
    "      >> <<   右移，左移运算符\n",
    "      &   位 'AND'\n",
    "      ^ | 位运算符\n",
    "      <= < > >=   比较运算符\n",
    "      <> == !=    等于运算符\n",
    "      = %= /= //= -= += *= **=    赋值运算符\n",
    "      is is not   身份运算符\n",
    "      in not in   成员运算符\n",
    "      not or and  逻辑运算符"
   ]
  }
 ],
 "metadata": {
  "kernelspec": {
   "display_name": "Python 3",
   "language": "python",
   "name": "python3"
  },
  "language_info": {
   "codemirror_mode": {
    "name": "ipython",
    "version": 3
   },
   "file_extension": ".py",
   "mimetype": "text/x-python",
   "name": "python",
   "nbconvert_exporter": "python",
   "pygments_lexer": "ipython3",
   "version": "3.7.3"
  }
 },
 "nbformat": 4,
 "nbformat_minor": 2
}
