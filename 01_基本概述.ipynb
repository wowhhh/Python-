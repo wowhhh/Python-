{
 "cells": [
  {
   "cell_type": "markdown",
   "metadata": {},
   "source": [
    "# Python基础\n",
    "## Python概述\n",
    "- 计算机语言概述\n",
    "    - 语言：交流的工具，沟通媒介\n",
    "    - 计算机语言：人跟计算机交流的工具，翻译官\n",
    "    - Python是计算机语言里面的一种，语法，语义。 （沟通：计算机组成原理）\n",
    "    - Python解释器\n",
    "    - Python语言\n",
    "        - 代码：人类语言，通过代码命令机器，与机器进行交流\n",
    "        - Python解释器： 担任翻译工作\n",
    "        - 流程：\n",
    "            - 写代码\n",
    "            - 执行: 由翻译官把代码翻译成机器语言\n",
    "    - Python特点\n",
    "        - 速度问题\n",
    "        - python跟其他语言的选择问题\n",
    "    - python应用领域\n",
    "        - 全能\n",
    "        - 设计哲学：平衡发展，样样通，简洁明了\n",
    "    - 环境问题\n",
    "        - anaconda+pycharm\n",
    "        - python3.6\n",
    "    - 环境\n",
    "        - 学习环境\n",
    "            - 视频\n",
    "            - 讲义+代码: github \n",
    "            - 教科书: gitbook\n",
    "        - 编程环境\n",
    "            - 安装教程在gitbook\n",
    "            - http://www.cnblogs.com/zhouzhishuai/p/8401103.html\n",
    "        - 操作系统\n",
    "              - windows\n",
    "              - Linux\n",
    "              - MacOX\n",
    "              - windows下开虚拟机，虚拟机安装ubuntu\n",
    "        - 软件环境：\n",
    "            - 不使用Python解释器\n",
    "            - 使用anaconda3+pycharm代替\n",
    "    - Python执行方式\n",
    "        - 本质上Python是一堆命令的集合\n",
    "        - 逐行执行，有bug就停   \n",
    "    - 错误记录：语法错误，不合法的语法。SyntaxError: invalid syntax"
   ]
  },
  {
   "cell_type": "code",
   "execution_count": null,
   "metadata": {
    "collapsed": true
   },
   "outputs": [],
   "source": []
  },
  {
   "cell_type": "code",
   "execution_count": 5,
   "metadata": {},
   "outputs": [
    {
     "ename": "SyntaxError",
     "evalue": "invalid syntax (<ipython-input-5-13596bca9a8b>, line 1)",
     "traceback": [
      "\u001b[0;36m  File \u001b[0;32m\"<ipython-input-5-13596bca9a8b>\"\u001b[0;36m, line \u001b[0;32m1\u001b[0m\n\u001b[0;31m    print(\"Hello Word\"2333)\u001b[0m\n\u001b[0m                         ^\u001b[0m\n\u001b[0;31mSyntaxError\u001b[0m\u001b[0;31m:\u001b[0m invalid syntax\n"
     ],
     "output_type": "error"
    }
   ],
   "source": [
    "print(\"Hello Word2333 \")"
   ]
  },
  {
   "cell_type": "code",
   "execution_count": null,
   "metadata": {
    "collapsed": true
   },
   "outputs": [],
   "source": []
  },
  {
   "cell_type": "code",
   "execution_count": null,
   "metadata": {
    "collapsed": true
   },
   "outputs": [],
   "source": []
  },
  {
   "cell_type": "code",
   "execution_count": null,
   "metadata": {
    "collapsed": true
   },
   "outputs": [],
   "source": []
  },
  {
   "cell_type": "code",
   "execution_count": null,
   "metadata": {
    "collapsed": true
   },
   "outputs": [],
   "source": []
  },
  {
   "cell_type": "code",
   "execution_count": null,
   "metadata": {
    "collapsed": true
   },
   "outputs": [],
   "source": []
  }
 ],
 "metadata": {
  "kernelspec": {
   "display_name": "Python 3",
   "language": "python",
   "name": "python3"
  },
  "language_info": {
   "codemirror_mode": {
    "name": "ipython",
    "version": 3
   },
   "file_extension": ".py",
   "mimetype": "text/x-python",
   "name": "python",
   "nbconvert_exporter": "python",
   "pygments_lexer": "ipython3",
   "version": "3.6.3"
  }
 },
 "nbformat": 4,
 "nbformat_minor": 2
}
