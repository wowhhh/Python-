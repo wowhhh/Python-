{
 "cells": [
  {
   "cell_type": "markdown",
   "metadata": {},
   "source": [
    "# 内置数据结构（变量类型）\n",
    "- list\n",
    "- set\n",
    "- dict\n",
    "- tuple"
   ]
  },
  {
   "cell_type": "markdown",
   "metadata": {},
   "source": [
    "## 列表\n",
    "- list是一个有序的集合，可以随时添加或者删除元素"
   ]
  },
  {
   "cell_type": "code",
   "execution_count": 1,
   "metadata": {},
   "outputs": [
    {
     "name": "stdout",
     "output_type": "stream",
     "text": [
      "<class 'list'>\n",
      "[]\n",
      "[666]\n",
      "[2, 3, 4, 5, 6]\n",
      "<class 'list'>\n",
      "[]\n"
     ]
    }
   ],
   "source": [
    "# 创建一个空列表\n",
    "l1= []\n",
    "print(type(l1))\n",
    "print(l1)\n",
    "\n",
    "# 创建一个带值的列表\n",
    "l2 = [666]\n",
    "print(l2)\n",
    "\n",
    "#创建一个带多个值的列表\n",
    "l3 = [2,3,4,5,6]\n",
    "print(l3)\n",
    "\n",
    "# 使用list()\n",
    "l4 = list()\n",
    "print(type(l4))\n",
    "print(l4)"
   ]
  },
  {
   "cell_type": "markdown",
   "metadata": {},
   "source": [
    "### 列表操作\n",
    "-  列表访问\n",
    "\n",
    "    - 下标索引，按照顺序访问。\n",
    "        - 索引是从零开始的\n",
    "    - 分片操作\n",
    "        - 分片操作是生成一个新的List\n",
    "            - 内置函数id,负责显示一个变量或者数据的唯一确定编号\n",
    "                    - # a = 100 print(id(a))\n",
    "        - 对列表进行任意一段的截取\n",
    "            - listname[开始位置 : 结束位置]\n",
    "            - 包含下标开始位置的值，不包含结束位置为下标的值\n",
    "            \n",
    "        - 控制增长幅度\n",
    "            - listname[ 开始位置: 结束位置: 增长幅度]\n",
    "            - 下标可以超过范围，超出后不再考虑多余下标内容\n",
    "            - 增长幅度可以是负数，负数表示从右往左，最后一个数的下标是-1，参看例子\n",
    "                - 为list的正反颠倒提供了一种思路\n",
    "- 删除命令：del \n",
    "     -  1:del listname[删除下标 ]  2: del listname\n",
    "     -  探究一下删除操作是不是新建了一个list，查看前后id。由下面的例子可见，并不是新建一个list"
   ]
  },
  {
   "cell_type": "code",
   "execution_count": null,
   "metadata": {},
   "outputs": [],
   "source": [
    "\n",
    "# 下标访问列表\n",
    "l = [1,2,3,4,5,6,7,8,9]\n",
    "for i in range(0,9):\n",
    "    print(l[i])"
   ]
  },
  {
   "cell_type": "code",
   "execution_count": null,
   "metadata": {},
   "outputs": [],
   "source": []
  },
  {
   "cell_type": "code",
   "execution_count": 13,
   "metadata": {},
   "outputs": [
    {
     "name": "stdout",
     "output_type": "stream",
     "text": [
      "[1, 2, 3, 4, 5]\n",
      "[1, 2, 3, 4, 5, 6, 7, 8, 9]\n",
      "[1, 4, 7]\n",
      "[1, 3, 5, 7, 9]\n",
      "9\n",
      "[9, 6, 3]\n",
      "[]\n",
      "[6, 7]\n",
      "[8, 7]\n"
     ]
    }
   ],
   "source": [
    "# 分片操作\n",
    "print(l[0 : 5])\n",
    "# 下标可以为空。默认是左边为0，右边下标志最大数+1\n",
    "print(l[:])\n",
    "# 也可以省略一边，因为不写的话都有默认值的，不慌\n",
    "\n",
    "#增长幅度\n",
    "print(l[::3])\n",
    "\n",
    "# 下标可以超过范围，超出后不再考虑多余下标内容\n",
    "print(l[-1000:1000:2])\n",
    "\n",
    "# 下标值，增长幅度可以为负数。表示顺序是从右往左，数组最后一个数字的下标是-1\n",
    "print(l[-1])   # 打印一手最后一个数字\n",
    "print(l[::-3]) # 倒着打印\n",
    "\n",
    "print(l[-2:-4]) # 此处显示为空，原因是分片操作默认是从左向右的\n",
    "print(l[-4:-2]) # 也就是说，左边的值要小于右边的值\n",
    "print(l[-2:-4:-1]) # 变体"
   ]
  },
  {
   "cell_type": "code",
   "execution_count": 16,
   "metadata": {},
   "outputs": [
    {
     "name": "stdout",
     "output_type": "stream",
     "text": [
      "140735383576480\n",
      "140735383579680\n",
      "140735383576480\n",
      "101\n",
      "100\n"
     ]
    }
   ],
   "source": [
    "# id函数具体\n",
    "a = 100\n",
    "b = 200\n",
    "print(id(a))\n",
    "print(id(b))\n",
    "# 如果a 与c 共享一份数据，则更改a的值同样会改变c的值\n",
    "# 但是，显示结果并非如此。为什么？\n",
    "c = a\n",
    "print(id(c))\n",
    "a = 101\n",
    "print(a)\n",
    "print(c)"
   ]
  },
  {
   "cell_type": "code",
   "execution_count": 17,
   "metadata": {},
   "outputs": [
    {
     "name": "stdout",
     "output_type": "stream",
     "text": [
      "1851545646728\n",
      "1851545646920\n"
     ]
    }
   ],
   "source": [
    "# 通过id 观察分片操作\n",
    "l = [22,2,2,54,6,7]\n",
    "ll = l[:]\n",
    "# 两者id不同，表明分片操作是从新生成一份数据，即一个新的列表，把数据拷贝的新列表中 \n",
    "print(id(l))\n",
    "print(id(ll))"
   ]
  },
  {
   "cell_type": "code",
   "execution_count": 20,
   "metadata": {},
   "outputs": [
    {
     "ename": "SyntaxError",
     "evalue": "Missing parentheses in call to 'print'. Did you mean print(a)? (<ipython-input-20-59ecb5854edc>, line 11)",
     "output_type": "error",
     "traceback": [
      "\u001b[1;36m  File \u001b[1;32m\"<ipython-input-20-59ecb5854edc>\"\u001b[1;36m, line \u001b[1;32m11\u001b[0m\n\u001b[1;33m    print a\u001b[0m\n\u001b[1;37m          ^\u001b[0m\n\u001b[1;31mSyntaxError\u001b[0m\u001b[1;31m:\u001b[0m Missing parentheses in call to 'print'. Did you mean print(a)?\n"
     ]
    }
   ],
   "source": [
    "# 删除操作\n",
    "# 探究一下删除操作是不是新建了一个list，查看前后id。由下面的例子可见，并不是新建一个list\n",
    "a = [11,2,3,45,8]\n",
    "print(id(a))\n",
    "del a[3]\n",
    "print(id(a))\n",
    "print(a)\n",
    "\n",
    "# del一个变量以后，就不能在继续使用这个变量了\n",
    "del a\n",
    "print a"
   ]
  },
  {
   "cell_type": "markdown",
   "metadata": {},
   "source": [
    "#### 列表相加\n",
    "- 使用加号链接两个列表\n",
    "- 使用乘号，将一个列表与整数相乘。相当于加了几次"
   ]
  },
  {
   "cell_type": "code",
   "execution_count": 21,
   "metadata": {},
   "outputs": [
    {
     "name": "stdout",
     "output_type": "stream",
     "text": [
      "[1, 2]\n",
      "[2, 1]\n"
     ]
    },
    {
     "ename": "TypeError",
     "evalue": "can't multiply sequence by non-int of type 'list'",
     "output_type": "error",
     "traceback": [
      "\u001b[1;31m---------------------------------------------------------------------------\u001b[0m",
      "\u001b[1;31mTypeError\u001b[0m                                 Traceback (most recent call last)",
      "\u001b[1;32m<ipython-input-21-70717bc7d604>\u001b[0m in \u001b[0;36m<module>\u001b[1;34m\u001b[0m\n\u001b[0;32m      6\u001b[0m \u001b[0mprint\u001b[0m\u001b[1;33m(\u001b[0m\u001b[0mc\u001b[0m\u001b[1;33m)\u001b[0m\u001b[1;33m\u001b[0m\u001b[1;33m\u001b[0m\u001b[0m\n\u001b[0;32m      7\u001b[0m \u001b[1;33m\u001b[0m\u001b[0m\n\u001b[1;32m----> 8\u001b[1;33m \u001b[0mc\u001b[0m \u001b[1;33m=\u001b[0m \u001b[0ma\u001b[0m \u001b[1;33m*\u001b[0m \u001b[0mb\u001b[0m\u001b[1;33m\u001b[0m\u001b[1;33m\u001b[0m\u001b[0m\n\u001b[0m\u001b[0;32m      9\u001b[0m \u001b[0mprint\u001b[0m\u001b[1;33m(\u001b[0m\u001b[0mc\u001b[0m\u001b[1;33m)\u001b[0m\u001b[1;33m\u001b[0m\u001b[1;33m\u001b[0m\u001b[0m\n",
      "\u001b[1;31mTypeError\u001b[0m: can't multiply sequence by non-int of type 'list'"
     ]
    }
   ],
   "source": [
    "# 列表相加\n",
    "a = [1]\n",
    "b = [2]\n",
    "c = a + b\n",
    "print(c)\n",
    "c = b + a\n",
    "print(c)\n"
   ]
  },
  {
   "cell_type": "code",
   "execution_count": 22,
   "metadata": {},
   "outputs": [
    {
     "name": "stdout",
     "output_type": "stream",
     "text": [
      "[1, 2, 3, 4, 5, 6, 1, 2, 3, 4, 5, 6, 1, 2, 3, 4, 5, 6]\n"
     ]
    }
   ],
   "source": [
    "# 使用乘号操作列表\n",
    "# 列表直接与一个整数相乘\n",
    "a = [1,2,3,4,5,6]\n",
    "b = a * 3\n",
    "print(b) #相当于把a列表重复相加了三次   b= a + a + a"
   ]
  },
  {
   "cell_type": "markdown",
   "metadata": {},
   "source": [
    "#### 成员资格运算\n",
    "-  即判断一个元素是否存在list里边\n"
   ]
  },
  {
   "cell_type": "code",
   "execution_count": null,
   "metadata": {},
   "outputs": [],
   "source": [
    "# 成员资格运算\n",
    "a = [1,2,3,4,5,6,7]\n",
    "b1 = 8\n",
    "b2 = 3\n",
    "c = b1 in a\n",
    "print(c)\n",
    "c = b2 in a\n",
    "print(c)\n",
    "c = b2 not in a\n",
    "print(c)"
   ]
  },
  {
   "cell_type": "code",
   "execution_count": null,
   "metadata": {},
   "outputs": [],
   "source": []
  },
  {
   "cell_type": "markdown",
   "metadata": {},
   "source": [
    "### 列表的遍历\n",
    "- for \n",
    "- while\n",
    "- len(listname) 求长度，即列表的长度"
   ]
  },
  {
   "cell_type": "code",
   "execution_count": null,
   "metadata": {},
   "outputs": [],
   "source": [
    "# for in list\n",
    "a = [1,2,3,54,6,8]\n",
    "# 打印a中的元素\n",
    "for item in a:\n",
    "    print(item)\n",
    "    \n",
    "b = [\"fjlahfak\"]\n",
    "for item in b:\n",
    "    print(item)\n",
    "    \n",
    "# 使用range\n",
    "#for item in range(0,len(a)):\n",
    "#    print(a[item])\n",
    " #   item+=1"
   ]
  },
  {
   "cell_type": "code",
   "execution_count": null,
   "metadata": {},
   "outputs": [],
   "source": [
    "# while循环访问list\n",
    "# 一般情况下不用，\n",
    "a = [1,2,3,54,6,8]\n",
    "length = len(a)\n",
    "index = 0\n",
    "#while index < length:\n",
    "    #index += 1\n",
    "   # print(a[index])\n",
    "    "
   ]
  },
  {
   "cell_type": "code",
   "execution_count": 1,
   "metadata": {},
   "outputs": [
    {
     "name": "stdout",
     "output_type": "stream",
     "text": [
      "one --> 1\n",
      "two --> 2\n",
      "three --> 3\n"
     ]
    }
   ],
   "source": [
    "# 双层列表循环\n",
    "a = [[\"one\",1],[\"two\",2],[\"three\",3]] #看成二维数组\n",
    "for k,v in a:\n",
    "    print(k,\"-->\",v)"
   ]
  },
  {
   "cell_type": "code",
   "execution_count": 2,
   "metadata": {},
   "outputs": [
    {
     "name": "stdout",
     "output_type": "stream",
     "text": [
      "one --> 1\n",
      "two --> 2\n"
     ]
    },
    {
     "ename": "ValueError",
     "evalue": "too many values to unpack (expected 2)",
     "output_type": "error",
     "traceback": [
      "\u001b[1;31m---------------------------------------------------------------------------\u001b[0m",
      "\u001b[1;31mValueError\u001b[0m                                Traceback (most recent call last)",
      "\u001b[1;32m<ipython-input-2-5c4cef47a979>\u001b[0m in \u001b[0;36m<module>\u001b[1;34m\u001b[0m\n\u001b[0;32m      1\u001b[0m \u001b[1;31m# 双层循环列表变异\u001b[0m\u001b[1;33m\u001b[0m\u001b[1;33m\u001b[0m\u001b[1;33m\u001b[0m\u001b[0m\n\u001b[0;32m      2\u001b[0m \u001b[0ma\u001b[0m \u001b[1;33m=\u001b[0m \u001b[1;33m[\u001b[0m\u001b[1;33m[\u001b[0m\u001b[1;34m\"one\"\u001b[0m\u001b[1;33m,\u001b[0m\u001b[1;36m1\u001b[0m\u001b[1;33m]\u001b[0m\u001b[1;33m,\u001b[0m\u001b[1;33m[\u001b[0m\u001b[1;34m\"two\"\u001b[0m\u001b[1;33m,\u001b[0m\u001b[1;36m2\u001b[0m\u001b[1;33m]\u001b[0m\u001b[1;33m,\u001b[0m\u001b[1;33m[\u001b[0m\u001b[1;34m\"three\"\u001b[0m\u001b[1;33m,\u001b[0m\u001b[1;36m3\u001b[0m\u001b[1;33m,\u001b[0m\u001b[1;36m4\u001b[0m\u001b[1;33m,\u001b[0m\u001b[1;36m5\u001b[0m\u001b[1;33m,\u001b[0m\u001b[1;36m6\u001b[0m\u001b[1;33m,\u001b[0m\u001b[1;36m7\u001b[0m\u001b[1;33m,\u001b[0m\u001b[1;36m8\u001b[0m\u001b[1;33m]\u001b[0m\u001b[1;33m]\u001b[0m\u001b[1;33m\u001b[0m\u001b[1;33m\u001b[0m\u001b[0m\n\u001b[1;32m----> 3\u001b[1;33m \u001b[1;32mfor\u001b[0m \u001b[0mk\u001b[0m\u001b[1;33m,\u001b[0m\u001b[0mv\u001b[0m \u001b[1;32min\u001b[0m \u001b[0ma\u001b[0m\u001b[1;33m:\u001b[0m\u001b[1;33m\u001b[0m\u001b[1;33m\u001b[0m\u001b[0m\n\u001b[0m\u001b[0;32m      4\u001b[0m     \u001b[0mprint\u001b[0m\u001b[1;33m(\u001b[0m\u001b[0mk\u001b[0m\u001b[1;33m,\u001b[0m\u001b[1;34m\"-->\"\u001b[0m\u001b[1;33m,\u001b[0m\u001b[0mv\u001b[0m\u001b[1;33m)\u001b[0m\u001b[1;33m\u001b[0m\u001b[1;33m\u001b[0m\u001b[0m\n",
      "\u001b[1;31mValueError\u001b[0m: too many values to unpack (expected 2)"
     ]
    }
   ],
   "source": [
    "# 双层循环列表变异1\n",
    "a = [[\"one\",1,'sdfd'],[\"two\",2],[\"three\",3,4,5,6,7,8]] \n",
    "for k,v in a:\n",
    "    print(k,\"-->\",v)"
   ]
  },
  {
   "cell_type": "code",
   "execution_count": 3,
   "metadata": {},
   "outputs": [
    {
     "name": "stdout",
     "output_type": "stream",
     "text": [
      "one --> 1 --> sdfd\n",
      "two --> 2 --> ewrg\n",
      "three --> 3 --> ewgrg\n"
     ]
    }
   ],
   "source": [
    "# 双层循环列表变异2\n",
    "a = [[\"one\",1,'sdfd'],[\"two\",2,'ewrg'],[\"three\",3,'ewgrg']] \n",
    "for k,v,w in a:\n",
    "    print(k,\"-->\",v,\"-->\",w)"
   ]
  },
  {
   "cell_type": "markdown",
   "metadata": {},
   "source": [
    "### 列表内涵：list content\n",
    "- 通过简单的方法创建列表"
   ]
  },
  {
   "cell_type": "code",
   "execution_count": 5,
   "metadata": {},
   "outputs": [
    {
     "name": "stdout",
     "output_type": "stream",
     "text": [
      "['a', 'b', 'c']\n",
      "['aaaaaaaaaa', 'bbbbbbbbbb', 'cccccccccc']\n"
     ]
    }
   ],
   "source": [
    "# for创建\n",
    "a = ['a','b','c']\n",
    "\n",
    "b = [i for i in a]\n",
    "print(b)\n",
    "\n",
    "# 对a 中的所有元素乘10，然后生成新的列表\n",
    "b = [i*10 for i in a]\n",
    "print(b)"
   ]
  },
  {
   "cell_type": "code",
   "execution_count": 7,
   "metadata": {},
   "outputs": [
    {
     "name": "stdout",
     "output_type": "stream",
     "text": [
      "[2, 4, 6, 8, 10, 12, 14, 16, 18, 20, 22, 24, 26, 28, 30, 32, 34]\n"
     ]
    }
   ],
   "source": [
    "# 还可以通过过滤原来list中的内容放入新列表\n",
    "a = [1,2,54,8,6,3]\n",
    "a = [x for x in range(1,35)] #生成列表\n",
    "b = [m for m in a if m%2==0]\n",
    "print(b)"
   ]
  },
  {
   "cell_type": "code",
   "execution_count": 15,
   "metadata": {},
   "outputs": [
    {
     "name": "stdout",
     "output_type": "stream",
     "text": [
      "[1, 2]\n",
      "[100, 200, 300]\n",
      "[101, 201, 301, 102, 202, 302]\n",
      "101 201 301 102 202 302 "
     ]
    }
   ],
   "source": [
    "# 列表生成式可以嵌套\n",
    "# 由两个列表a,b\n",
    "a = [i for i in range(1,3)]# 生成list\n",
    "print(a)\n",
    "b = [i for i in range(100,400) if i%100 == 0]\n",
    "print(b)\n",
    "\n",
    "#嵌套 ；嵌套的表达式也可以像上面一样使用If判断\n",
    "c = [ m+n for m in a for n in b]\n",
    "print(c)\n",
    "\n",
    "# 对比,上面代码与下面结果等价\n",
    "for m in a:\n",
    "    for n in b:\n",
    "        print(m+n,end=\" \")\n",
    "        \n"
   ]
  },
  {
   "cell_type": "markdown",
   "metadata": {},
   "source": [
    "## 列表函数\n",
    "- len(ListName):求列表长度\n",
    "- max(ListName):求列表中的最大值。字符串也可以求最大值，比字母的\n",
    "- min:同理\n",
    "- list函数：将其他格式的数据转换成list\n",
    "- append 插入一个内容   listname.append\n",
    "- insert  ListName.insert(索引位置，插入数据)\n",
    "- del 删除\n",
    "- pop 从队列中拿出一个元素，即把最后一个元素取出来，也就是删除最后一个元素\n",
    "- pop(索引位置)，把索引位置的值拿出来\n",
    "- remove 在列表中删除指定的值  listname.remove(值)；这里指定的是删除的值而不是删除的位置；所以执行remove可以先做try excepty\n",
    "- clear 清空原来的值，id不变   listname.clear()\n",
    "- listname = list()   也可以清空列表但是id的值会发生改变  listname = []  也是\n",
    "- reverse  listname.reverse()   反转原来列表内的值,id值不发生改变 \n",
    "- extend  ：拓展列表，两个列表，把一个直接拼接到后一个上  listname1.extend(listname2)\n",
    "- count :查找列表中指定值或者元素的个数 listname.count(要查找的值)\n",
    "- copy ：浅拷贝"
   ]
  },
  {
   "cell_type": "code",
   "execution_count": 2,
   "metadata": {},
   "outputs": [
    {
     "name": "stdout",
     "output_type": "stream",
     "text": [
      "[1, 2, 3]\n",
      "['i', ' ', 'l', 'o', 'v', 'e', ' ', 'c', 'z']\n"
     ]
    }
   ],
   "source": [
    "# list函数实例\n",
    "a = [1,2,3]\n",
    "print(list(a ))\n",
    "s = \"i love cz\"\n",
    "print(list(s))  #空格也转换了"
   ]
  },
  {
   "cell_type": "code",
   "execution_count": 11,
   "metadata": {},
   "outputs": [
    {
     "data": {
      "text/plain": [
       "['i ii iii', 45, 56, (8+4j), 100]"
      ]
     },
     "execution_count": 11,
     "metadata": {},
     "output_type": "execute_result"
    }
   ],
   "source": [
    "l = ['a','i ii iii',45,56,8+4j]  # 列表内不对内容进行数据格式的固定，什么都可以装，不同于数组\n",
    "l.append(100)   # append\n",
    "l.insert(0,2333)\n",
    "l.pop(0)\n",
    "l\n",
    "l.remove('a')\n",
    "l"
   ]
  },
  {
   "cell_type": "code",
   "execution_count": 16,
   "metadata": {},
   "outputs": [
    {
     "name": "stdout",
     "output_type": "stream",
     "text": [
      "[1, 2, 3, 4, 5, 6666]\n",
      "[1111, 2, 3, 4, 5, 6666]\n",
      "[1111, 2, 3, 4, 5, 6666]\n",
      "[1111, 2, 3, 4, 5, 6666]\n",
      "[1, 2, 3, 4, 5, 6666]\n",
      "[1111, 2, 3, 4, 5, 6666]\n"
     ]
    }
   ],
   "source": [
    "# copy\n",
    "\n",
    "\n",
    "# 列表类型变量赋值实例。结果是给b赋值导致a 的列表中的数据也发生了改变\n",
    "a = [1,2,3,4,5,6666]\n",
    "print(a)\n",
    "b = a\n",
    "b[0] = 1111\n",
    "print(a)\n",
    "print(b)\n",
    "\n",
    "# copy函数就是解决上述问题滴\n",
    "b = a.copy()\n",
    "print(b)\n",
    "b[0]=1\n",
    "print(b)\n",
    "print(a)"
   ]
  },
  {
   "cell_type": "code",
   "execution_count": null,
   "metadata": {},
   "outputs": [],
   "source": []
  },
  {
   "cell_type": "code",
   "execution_count": null,
   "metadata": {},
   "outputs": [],
   "source": []
  },
  {
   "cell_type": "code",
   "execution_count": null,
   "metadata": {},
   "outputs": [],
   "source": []
  },
  {
   "cell_type": "code",
   "execution_count": null,
   "metadata": {},
   "outputs": [],
   "source": []
  },
  {
   "cell_type": "code",
   "execution_count": null,
   "metadata": {},
   "outputs": [],
   "source": []
  },
  {
   "cell_type": "code",
   "execution_count": null,
   "metadata": {},
   "outputs": [],
   "source": []
  },
  {
   "cell_type": "code",
   "execution_count": null,
   "metadata": {},
   "outputs": [],
   "source": []
  },
  {
   "cell_type": "code",
   "execution_count": null,
   "metadata": {},
   "outputs": [],
   "source": []
  },
  {
   "cell_type": "markdown",
   "metadata": {},
   "source": [
    "#### 传值与传地址\n",
    "- 简单的数值，采用传值操作，即在函数内对参数的操作不影响外面的变量\n",
    "- 对于复杂变量，采用传地址操作，此时函数内的参数和外部变量是同一份内容，任何地方对此内容的更好都影响另外的变量或者参数的使用"
   ]
  }
 ],
 "metadata": {
  "kernelspec": {
   "display_name": "Python 3",
   "language": "python",
   "name": "python3"
  },
  "language_info": {
   "codemirror_mode": {
    "name": "ipython",
    "version": 3
   },
   "file_extension": ".py",
   "mimetype": "text/x-python",
   "name": "python",
   "nbconvert_exporter": "python",
   "pygments_lexer": "ipython3",
   "version": "3.7.3"
  }
 },
 "nbformat": 4,
 "nbformat_minor": 2
}
