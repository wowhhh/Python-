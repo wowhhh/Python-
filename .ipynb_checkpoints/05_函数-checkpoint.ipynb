{
 "cells": [
  {
   "cell_type": "markdown",
   "metadata": {},
   "source": [
    "# 函数\n",
    "- 函数是代码的一种组织形式\n",
    "- 函数应该能够完成一项特定的功能，一个函数一般仅仅完成一项工作\n",
    "- 函数内代码不应该太多，一般一屏幕为准，太多就嵌套\n",
    "- 有返回结果的叫函数，无返回结果的叫过程。python中不加以区分。\n",
    "- 函数的使用\n",
    "    - 函数使用需要先定义\n",
    "    - 使用函数，俗称调用"
   ]
  },
  {
   "cell_type": "markdown",
   "metadata": {},
   "source": [
    "## 定义一个函数\n",
    "- 1. def关键字，后面跟一个空格\n",
    "- 2. 函数名，自己定义，起名需要遵循变量命名规则，约定俗成，大驼峰命名只给类名\n",
    "- 3. 后面括号和冒号不能省略，括号内可以有参数\n",
    "- 4. 函数内所有代码缩进\n",
    "\n",
    "## 调用一个函数\n",
    "- 直接写函数名字，后面小括号不能省略，括号内容根据情况\n"
   ]
  },
  {
   "cell_type": "code",
   "execution_count": 4,
   "metadata": {},
   "outputs": [
    {
     "name": "stdout",
     "output_type": "stream",
     "text": [
      "这是一个函数\n"
     ]
    }
   ],
   "source": [
    "def func():\n",
    "    print(\"这是一个函数\")\n",
    "func()"
   ]
  },
  {
   "cell_type": "markdown",
   "metadata": {},
   "source": [
    "## 函数的参数以及返回值\n",
    "- 参数：负责给函数传递一些必要的数据或者信息\n",
    "    - 形式参数：再函数定义的时候用到的参数，没有具体值，只是一个占位符号。\n",
    "    - 实际参数：在调用函数的时候输入的值，\n",
    "- 返回值：调用函数时返回的一个结果\n",
    "    - 返回值可选\n",
    "    - 使用return 返回结果\n",
    "    - 无返回值，return None\n",
    "    - Python默认返回None"
   ]
  },
  {
   "cell_type": "code",
   "execution_count": 8,
   "metadata": {},
   "outputs": [
    {
     "name": "stdout",
     "output_type": "stream",
     "text": [
      "7\n",
      "wyb\n"
     ]
    }
   ],
   "source": [
    "# 形参和实参\n",
    "def xs(a,b):\n",
    "    print(a+b)\n",
    "    \n",
    "xs(3,4)\n",
    "    \n",
    "def hello(person):\n",
    "    print(\"{0}\".format(person))\n",
    "    print(\"测试\")\n",
    "p=\"wyb\"\n",
    "hello(p)"
   ]
  },
  {
   "cell_type": "code",
   "execution_count": 5,
   "metadata": {},
   "outputs": [
    {
     "name": "stdout",
     "output_type": "stream",
     "text": [
      "5\n"
     ]
    }
   ],
   "source": [
    "def re(a):\n",
    "    return a\n",
    "b = re(5)\n",
    "print(b)\n"
   ]
  },
  {
   "cell_type": "code",
   "execution_count": 6,
   "metadata": {},
   "outputs": [
    {
     "name": "stdout",
     "output_type": "stream",
     "text": [
      "Help on built-in function print in module builtins:\n",
      "\n",
      "print(...)\n",
      "    print(value, ..., sep=' ', end='\\n', file=sys.stdout, flush=False)\n",
      "    \n",
      "    Prints the values to a stream, or to sys.stdout by default.\n",
      "    Optional keyword arguments:\n",
      "    file:  a file-like object (stream); defaults to the current sys.stdout.\n",
      "    sep:   string inserted between values, default a space.\n",
      "    end:   string appended after the last value, default a newline.\n",
      "    flush: whether to forcibly flush the stream.\n",
      "\n"
     ]
    }
   ],
   "source": [
    "# help负责随时提供帮助\n",
    "help(print)"
   ]
  },
  {
   "cell_type": "code",
   "execution_count": 21,
   "metadata": {},
   "outputs": [
    {
     "name": "stdout",
     "output_type": "stream",
     "text": [
      " 1 * 1 = 1\n",
      " 1 * 2 = 2 2 * 2 = 4\n",
      " 1 * 3 = 3 2 * 3 = 6 3 * 3 = 9\n",
      " 1 * 4 = 4 2 * 4 = 8 3 * 4 = 12 4 * 4 = 16\n",
      " 1 * 5 = 5 2 * 5 = 10 3 * 5 = 15 4 * 5 = 20 5 * 5 = 25\n",
      " 1 * 6 = 6 2 * 6 = 12 3 * 6 = 18 4 * 6 = 24 5 * 6 = 30 6 * 6 = 36\n",
      " 1 * 7 = 7 2 * 7 = 14 3 * 7 = 21 4 * 7 = 28 5 * 7 = 35 6 * 7 = 42 7 * 7 = 49\n",
      " 1 * 8 = 8 2 * 8 = 16 3 * 8 = 24 4 * 8 = 32 5 * 8 = 40 6 * 8 = 48 7 * 8 = 56 8 * 8 = 64\n",
      " 1 * 9 = 9 2 * 9 = 18 3 * 9 = 27 4 * 9 = 36 5 * 9 = 45 6 * 9 = 54 7 * 9 = 63 8 * 9 = 72 9 * 9 = 81\n"
     ]
    }
   ],
   "source": [
    "# 九九乘法表\n",
    "# v1\n",
    "def nn():\n",
    "    for i in range(1,10):\n",
    "        for j in range(1,i+1):\n",
    "            print(' ',end='')\n",
    "            print(j,end='')\n",
    "            print(' * ',end='')\n",
    "            print(i,end='')\n",
    "            print(' = ',end='')\n",
    "            print(i*j,end='')\n",
    "        print()\n",
    "    return None\n",
    "nn()"
   ]
  },
  {
   "cell_type": "markdown",
   "metadata": {},
   "source": [
    "## 参数详解\n",
    "- 分类\n",
    "    - 普通参数/位置参数\n",
    "    - 默认参数\n",
    "    - 关键字参数\n",
    "    - 收集参数（未完）"
   ]
  },
  {
   "cell_type": "code",
   "execution_count": 22,
   "metadata": {},
   "outputs": [
    {
     "name": "stdout",
     "output_type": "stream",
     "text": [
      "3\n"
     ]
    }
   ],
   "source": [
    "# 普通参数\n",
    "def normal_para(one,two):\n",
    "    print(one+two)\n",
    "    return None\n",
    "normal_para(1,2)"
   ]
  },
  {
   "cell_type": "code",
   "execution_count": 24,
   "metadata": {},
   "outputs": [
    {
     "name": "stdout",
     "output_type": "stream",
     "text": [
      "103\n",
      "1003\n"
     ]
    }
   ],
   "source": [
    "# 默认参数实例\n",
    "def default_para(one,two,three=100):\n",
    "    print(one+two+three)\n",
    "    return None\n",
    "default_para(1,2)\n",
    "default_para(1,2,1000)"
   ]
  },
  {
   "cell_type": "code",
   "execution_count": 26,
   "metadata": {},
   "outputs": [
    {
     "name": "stdout",
     "output_type": "stream",
     "text": [
      "3\n",
      "3\n",
      "3\n",
      "3\n"
     ]
    }
   ],
   "source": [
    "# 关键字参数\n",
    "def keys_para(one,two,three):\n",
    "    print(one+two)\n",
    "    print(three)\n",
    "    return None\n",
    "\n",
    "keys_para(one=1,two=2,three=3)\n",
    "keys_para(three=3,two=2,one=1)"
   ]
  },
  {
   "cell_type": "code",
   "execution_count": null,
   "metadata": {},
   "outputs": [],
   "source": [
    "# 收集参数"
   ]
  },
  {
   "cell_type": "code",
   "execution_count": null,
   "metadata": {},
   "outputs": [],
   "source": []
  },
  {
   "cell_type": "code",
   "execution_count": null,
   "metadata": {},
   "outputs": [],
   "source": []
  },
  {
   "cell_type": "code",
   "execution_count": null,
   "metadata": {},
   "outputs": [],
   "source": []
  },
  {
   "cell_type": "code",
   "execution_count": null,
   "metadata": {},
   "outputs": [],
   "source": []
  },
  {
   "cell_type": "code",
   "execution_count": null,
   "metadata": {},
   "outputs": [],
   "source": []
  },
  {
   "cell_type": "code",
   "execution_count": null,
   "metadata": {},
   "outputs": [],
   "source": []
  },
  {
   "cell_type": "code",
   "execution_count": null,
   "metadata": {},
   "outputs": [],
   "source": []
  },
  {
   "cell_type": "code",
   "execution_count": null,
   "metadata": {},
   "outputs": [],
   "source": []
  },
  {
   "cell_type": "code",
   "execution_count": null,
   "metadata": {},
   "outputs": [],
   "source": []
  },
  {
   "cell_type": "code",
   "execution_count": null,
   "metadata": {},
   "outputs": [],
   "source": []
  },
  {
   "cell_type": "code",
   "execution_count": null,
   "metadata": {},
   "outputs": [],
   "source": []
  },
  {
   "cell_type": "code",
   "execution_count": null,
   "metadata": {},
   "outputs": [],
   "source": []
  },
  {
   "cell_type": "code",
   "execution_count": null,
   "metadata": {},
   "outputs": [],
   "source": []
  },
  {
   "cell_type": "code",
   "execution_count": null,
   "metadata": {},
   "outputs": [],
   "source": []
  },
  {
   "cell_type": "code",
   "execution_count": null,
   "metadata": {},
   "outputs": [],
   "source": []
  }
 ],
 "metadata": {
  "kernelspec": {
   "display_name": "Python 3",
   "language": "python",
   "name": "python3"
  },
  "language_info": {
   "codemirror_mode": {
    "name": "ipython",
    "version": 3
   },
   "file_extension": ".py",
   "mimetype": "text/x-python",
   "name": "python",
   "nbconvert_exporter": "python",
   "pygments_lexer": "ipython3",
   "version": "3.7.3"
  }
 },
 "nbformat": 4,
 "nbformat_minor": 2
}
