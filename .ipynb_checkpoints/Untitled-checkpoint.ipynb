{
 "cells": [
  {
   "cell_type": "code",
   "execution_count": 3,
   "metadata": {},
   "outputs": [
    {
     "name": "stdout",
     "output_type": "stream",
     "text": [
      "dict_values(['test', '1233456'])\n",
      "dict_values(['test', '1233456'])\n"
     ]
    }
   ],
   "source": [
    "def app_user():\n",
    "    a = {\n",
    "       \"username\" :\"test\",\n",
    "        \"password\":\"1233456\"\n",
    "    }\n",
    "    res = a.values()\n",
    "    return res\n",
    "print(app_user())\n",
    "\n",
    "\n",
    "def app_user2(a):\n",
    "    return a.values()\n",
    "a = {\n",
    "       \"username\" :\"test\",\n",
    "        \"password\":\"1233456\"\n",
    "    }\n",
    "print(app_user2(a))\n",
    "\n"
   ]
  }
 ],
 "metadata": {
  "kernelspec": {
   "display_name": "Python 3",
   "language": "python",
   "name": "python3"
  },
  "language_info": {
   "codemirror_mode": {
    "name": "ipython",
    "version": 3
   },
   "file_extension": ".py",
   "mimetype": "text/x-python",
   "name": "python",
   "nbconvert_exporter": "python",
   "pygments_lexer": "ipython3",
   "version": "3.7.3"
  }
 },
 "nbformat": 4,
 "nbformat_minor": 2
}
