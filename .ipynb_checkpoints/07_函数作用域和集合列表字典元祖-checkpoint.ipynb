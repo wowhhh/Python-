{
 "cells": [
  {
   "cell_type": "markdown",
   "metadata": {},
   "source": [
    "# 变量作用域\n",
    "- 变量作用范围的限制\n",
    "- 分类哦：按照作用域分类\n",
    "    - 全局（global）：在函数外部定义\n",
    "    - 局部（local）：在函数内部定义\n",
    "- 变量的作用范围\n",
    "    - 全局变量：在整个全局范围内都有效\n",
    "    - 全局变量在局部也可以使用\n",
    "- LEGB原则\n",
    "    - L（local） 局部作用域\n",
    "    - E（Encloseing Function locale）外部嵌套函数作用域\n",
    "    - G （Global module）函数定义所在模块作用域\n",
    "    - B （Build in）：Python 内置模块的作用域"
   ]
  },
  {
   "cell_type": "markdown",
   "metadata": {},
   "source": [
    "## 提升局部变量为全局变量\n",
    "- 使用global"
   ]
  },
  {
   "cell_type": "code",
   "execution_count": 4,
   "metadata": {},
   "outputs": [
    {
     "name": "stdout",
     "output_type": "stream",
     "text": [
      "100\n",
      "99\n",
      "100\n",
      "99\n"
     ]
    }
   ],
   "source": [
    "# 提升局部变量为全部变量的案例\n",
    "def fun():\n",
    "    global b1 \n",
    "    b1 = 100\n",
    "    print(b1)\n",
    "    \n",
    "    global b2\n",
    "    b2 = 99\n",
    "    print(b2)\n",
    "\n",
    "fun()   \n",
    "print(b1)\n",
    "print(b2)\n"
   ]
  },
  {
   "cell_type": "markdown",
   "metadata": {},
   "source": [
    "## globals,locals 函数\n",
    "- 可以通过globals和locals显示局部变量和全局变量\n",
    "- 参看案例"
   ]
  },
  {
   "cell_type": "code",
   "execution_count": 5,
   "metadata": {},
   "outputs": [
    {
     "name": "stdout",
     "output_type": "stream",
     "text": [
      "locals = {'c': 1, 'd': 2, 'e': 111}\n",
      "globals = {'__name__': '__main__', '__doc__': 'Automatically created module for IPython interactive environment', '__package__': None, '__loader__': None, '__spec__': None, '__builtin__': <module 'builtins' (built-in)>, '__builtins__': <module 'builtins' (built-in)>, '_ih': ['', '# 提升局部变量为全部变量的案例\\ndef fun():\\n    global b1 = 100\\n    print(b1)\\n    \\n    global b2 = 99\\n    print(b2)\\n    \\nprint(b1)\\nprint(b2)\\nfun()', '# 提升局部变量为全部变量的案例\\ndef fun():\\n    global b1 \\n    b1 = 100\\n    print(b1)\\n    \\n    global b2\\n    b2 = 99\\n    print(b2)\\n    \\nprint(b1)\\nprint(b2)\\nfun()', '# 提升局部变量为全部变量的案例\\ndef fun():\\n    global b1 \\n    b1 = 100\\n    print(b1)\\n    \\n    global b2\\n    b2 = 99\\n    print(b2)\\n\\n    fun()   \\nprint(b1)\\nprint(b2)', '# 提升局部变量为全部变量的案例\\ndef fun():\\n    global b1 \\n    b1 = 100\\n    print(b1)\\n    \\n    global b2\\n    b2 = 99\\n    print(b2)\\n\\nfun()   \\nprint(b1)\\nprint(b2)', '# globals 和 locals\\na = 1\\nb = 2\\ndef fun(c,d):\\n    e = 111\\n    print(\"locals = {0}\".format(locals()))\\n    print(\"globals = {0}\".format(globals()))\\n    \\nfun(a,b)'], '_oh': {}, '_dh': ['C:\\\\Users\\\\wyb\\\\PythonLearnNote'], 'In': ['', '# 提升局部变量为全部变量的案例\\ndef fun():\\n    global b1 = 100\\n    print(b1)\\n    \\n    global b2 = 99\\n    print(b2)\\n    \\nprint(b1)\\nprint(b2)\\nfun()', '# 提升局部变量为全部变量的案例\\ndef fun():\\n    global b1 \\n    b1 = 100\\n    print(b1)\\n    \\n    global b2\\n    b2 = 99\\n    print(b2)\\n    \\nprint(b1)\\nprint(b2)\\nfun()', '# 提升局部变量为全部变量的案例\\ndef fun():\\n    global b1 \\n    b1 = 100\\n    print(b1)\\n    \\n    global b2\\n    b2 = 99\\n    print(b2)\\n\\n    fun()   \\nprint(b1)\\nprint(b2)', '# 提升局部变量为全部变量的案例\\ndef fun():\\n    global b1 \\n    b1 = 100\\n    print(b1)\\n    \\n    global b2\\n    b2 = 99\\n    print(b2)\\n\\nfun()   \\nprint(b1)\\nprint(b2)', '# globals 和 locals\\na = 1\\nb = 2\\ndef fun(c,d):\\n    e = 111\\n    print(\"locals = {0}\".format(locals()))\\n    print(\"globals = {0}\".format(globals()))\\n    \\nfun(a,b)'], 'Out': {}, 'get_ipython': <bound method InteractiveShell.get_ipython of <ipykernel.zmqshell.ZMQInteractiveShell object at 0x00000201975774E0>>, 'exit': <IPython.core.autocall.ZMQExitAutocall object at 0x0000020199CACBE0>, 'quit': <IPython.core.autocall.ZMQExitAutocall object at 0x0000020199CACBE0>, '_': '', '__': '', '___': '', '_i': '# 提升局部变量为全部变量的案例\\ndef fun():\\n    global b1 \\n    b1 = 100\\n    print(b1)\\n    \\n    global b2\\n    b2 = 99\\n    print(b2)\\n\\nfun()   \\nprint(b1)\\nprint(b2)', '_ii': '# 提升局部变量为全部变量的案例\\ndef fun():\\n    global b1 \\n    b1 = 100\\n    print(b1)\\n    \\n    global b2\\n    b2 = 99\\n    print(b2)\\n\\n    fun()   \\nprint(b1)\\nprint(b2)', '_iii': '# 提升局部变量为全部变量的案例\\ndef fun():\\n    global b1 \\n    b1 = 100\\n    print(b1)\\n    \\n    global b2\\n    b2 = 99\\n    print(b2)\\n    \\nprint(b1)\\nprint(b2)\\nfun()', '_i1': '# 提升局部变量为全部变量的案例\\ndef fun():\\n    global b1 = 100\\n    print(b1)\\n    \\n    global b2 = 99\\n    print(b2)\\n    \\nprint(b1)\\nprint(b2)\\nfun()', '_i2': '# 提升局部变量为全部变量的案例\\ndef fun():\\n    global b1 \\n    b1 = 100\\n    print(b1)\\n    \\n    global b2\\n    b2 = 99\\n    print(b2)\\n    \\nprint(b1)\\nprint(b2)\\nfun()', 'fun': <function fun at 0x0000020199DB7EA0>, '_i3': '# 提升局部变量为全部变量的案例\\ndef fun():\\n    global b1 \\n    b1 = 100\\n    print(b1)\\n    \\n    global b2\\n    b2 = 99\\n    print(b2)\\n\\n    fun()   \\nprint(b1)\\nprint(b2)', '_i4': '# 提升局部变量为全部变量的案例\\ndef fun():\\n    global b1 \\n    b1 = 100\\n    print(b1)\\n    \\n    global b2\\n    b2 = 99\\n    print(b2)\\n\\nfun()   \\nprint(b1)\\nprint(b2)', 'b1': 100, 'b2': 99, '_i5': '# globals 和 locals\\na = 1\\nb = 2\\ndef fun(c,d):\\n    e = 111\\n    print(\"locals = {0}\".format(locals()))\\n    print(\"globals = {0}\".format(globals()))\\n    \\nfun(a,b)', 'a': 1, 'b': 2}\n"
     ]
    }
   ],
   "source": [
    "# globals 和 locals\n",
    "# 上面这两个函数叫做内建函数\n",
    "a = 1\n",
    "b = 2\n",
    "def fun(c,d):\n",
    "    e = 111\n",
    "    print(\"locals = {0}\".format(locals())) # 显示局部变量\n",
    "    print(\"globals = {0}\".format(globals())) # 显示全局变量\n",
    "    \n",
    "fun(a,b)"
   ]
  },
  {
   "cell_type": "markdown",
   "metadata": {},
   "source": [
    "# eval()函数\n",
    "- 把一个字符串当成一个表达式执行，返回表达式执行后的结果\n",
    "- 语法：\n",
    "            \n",
    "            eval(string_code,globals=None,locals=None)"
   ]
  },
  {
   "cell_type": "code",
   "execution_count": 7,
   "metadata": {},
   "outputs": [
    {
     "name": "stdout",
     "output_type": "stream",
     "text": [
      "300\n"
     ]
    }
   ],
   "source": [
    "# 案例\n",
    "x =100\n",
    "y = 200\n",
    "z = eval(\"x+y\")  # z = x+y\n",
    "print(z)"
   ]
  },
  {
   "cell_type": "code",
   "execution_count": null,
   "metadata": {},
   "outputs": [],
   "source": []
  },
  {
   "cell_type": "code",
   "execution_count": null,
   "metadata": {},
   "outputs": [],
   "source": []
  },
  {
   "cell_type": "code",
   "execution_count": null,
   "metadata": {},
   "outputs": [],
   "source": []
  }
 ],
 "metadata": {
  "kernelspec": {
   "display_name": "Python 3",
   "language": "python",
   "name": "python3"
  },
  "language_info": {
   "codemirror_mode": {
    "name": "ipython",
    "version": 3
   },
   "file_extension": ".py",
   "mimetype": "text/x-python",
   "name": "python",
   "nbconvert_exporter": "python",
   "pygments_lexer": "ipython3",
   "version": "3.7.3"
  }
 },
 "nbformat": 4,
 "nbformat_minor": 2
}
