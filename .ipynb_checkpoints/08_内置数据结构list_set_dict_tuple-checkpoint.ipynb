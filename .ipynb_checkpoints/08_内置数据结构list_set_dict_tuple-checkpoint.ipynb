{
 "cells": [
  {
   "cell_type": "markdown",
   "metadata": {},
   "source": [
    "# 内置数据结构（变量类型）\n",
    "- list\n",
    "- set\n",
    "- dict\n",
    "- tuple"
   ]
  },
  {
   "cell_type": "markdown",
   "metadata": {},
   "source": [
    "## list(列表)\n",
    "- 一系列有顺序的数据的组合\n",
    "- 创建列表\n",
    "    - 空列表\n",
    "    - \n",
    "    \n",
    "- 补充\n",
    "    - len() 获得list元素的个数。\n",
    "    - 索引\n",
    "        - 索引从0开始\n",
    "        - 记得最后一个元素的索引是len(classmates) - 1。\n",
    "        - 如果要取最后一个元素，除了计算索引位置外，还可以用-1做索引，直接获取最后一个元素。以此类推，可以获取倒数第二个和第三个\n",
    "        \n",
    "    - list是可变的有序表。可以使用listname.append(插入值)  追加元素\n",
    "    - 也可以插入元素到指定位置   listname.insert(索引，插入值)\n",
    "    - 删除list末尾的元素。listname.pop()\n",
    "    - 删除指定位置的元素。listname.pop(索引位置)\n",
    "    - 把某个元素替换成别的元素，可以直接赋值给对应的索引位置。listname[索引位置] = 值\n",
    "    - list里面的元素的数据类型可以不同的\n",
    "    - list 元素可以是另外一个list   s = ['python', 'java', ['asp', 'php'], 'scheme']"
   ]
  },
  {
   "cell_type": "code",
   "execution_count": 6,
   "metadata": {},
   "outputs": [
    {
     "name": "stdout",
     "output_type": "stream",
     "text": [
      "<class 'list'>\n",
      "[]\n",
      "[100]\n",
      "[1, 2, 3, 4, 5, 6]\n",
      "<class 'list'>\n",
      "[]\n"
     ]
    }
   ],
   "source": [
    "#1 创建空列表\n",
    "l1 = []\n",
    "print(type(l1)) # type是内置函数，复杂打印出变量的类型\n",
    "print(l1)\n",
    "\n",
    "#2 创建带值的列表\n",
    "l2 = [100]\n",
    "print(l2)\n",
    "\n",
    "#3 创建列表，带多个值\n",
    "l3 = [1,2,3,4,5,6]\n",
    "print(l3)\n",
    "\n",
    "#4 使用list()\n",
    "l4 = list()\n",
    "print(type(l4))\n",
    "print(l4)"
   ]
  },
  {
   "cell_type": "markdown",
   "metadata": {},
   "source": [
    "## tuple（元组）\n",
    "- tuple与list非常类似，但是tuple一旦初始化，其里面的值就不能发生改变\n",
    "- 陷阱：\n",
    "            \n"
   ]
  },
  {
   "cell_type": "markdown",
   "metadata": {},
   "source": [
    "## dict（字典）\n",
    "- 在其他语言中，称之为map,使用 键-值（key-value）存储，具有很快的查找速度"
   ]
  },
  {
   "cell_type": "markdown",
   "metadata": {},
   "source": [
    "## set（集合）\n",
    "- set和dict类似，也是一组value的集合，由于key不能重复，所以在set中，没有重复的key"
   ]
  },
  {
   "cell_type": "code",
   "execution_count": null,
   "metadata": {},
   "outputs": [],
   "source": []
  },
  {
   "cell_type": "code",
   "execution_count": null,
   "metadata": {},
   "outputs": [],
   "source": []
  },
  {
   "cell_type": "code",
   "execution_count": null,
   "metadata": {},
   "outputs": [],
   "source": []
  }
 ],
 "metadata": {
  "kernelspec": {
   "display_name": "Python 3",
   "language": "python",
   "name": "python3"
  },
  "language_info": {
   "codemirror_mode": {
    "name": "ipython",
    "version": 3
   },
   "file_extension": ".py",
   "mimetype": "text/x-python",
   "name": "python",
   "nbconvert_exporter": "python",
   "pygments_lexer": "ipython3",
   "version": "3.7.3"
  }
 },
 "nbformat": 4,
 "nbformat_minor": 2
}
