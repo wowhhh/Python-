{
 "cells": [
  {
   "cell_type": "markdown",
   "metadata": {},
   "source": [
    "- 打开丘比特笔记：jupyter notebook\n",
    "- 课程地址\n",
    "- 教材地址\n",
    "- 讲义地址\n",
    "- anaconda3的安装（windows）:https://www.jianshu.com/p/62f155eb6ac5\n",
    "- Github 与 博客\n",
    "- 打开终端ctrl alt t\n",
    "- 切换管理员 sudo su 。密码是ddd123\n",
    "- linu安装git  apt-get install git\n"
   ]
  }
 ],
 "metadata": {
  "kernelspec": {
   "display_name": "Python 3",
   "language": "python",
   "name": "python3"
  },
  "language_info": {
   "codemirror_mode": {
    "name": "ipython",
    "version": 3
   },
   "file_extension": ".py",
   "mimetype": "text/x-python",
   "name": "python",
   "nbconvert_exporter": "python",
   "pygments_lexer": "ipython3",
   "version": "3.6.3"
  }
 },
 "nbformat": 4,
 "nbformat_minor": 2
}
