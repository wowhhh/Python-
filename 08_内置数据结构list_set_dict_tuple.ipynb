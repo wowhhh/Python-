{
 "cells": [
  {
   "cell_type": "markdown",
   "metadata": {},
   "source": [
    "# 内置数据结构（变量类型）\n",
    "- list\n",
    "- set\n",
    "- dict\n",
    "- tuple"
   ]
  },
  {
   "cell_type": "markdown",
   "metadata": {},
   "source": [
    "## 列表\n",
    "- list是一个有序的集合，可以随时添加或者删除元素"
   ]
  },
  {
   "cell_type": "code",
   "execution_count": 1,
   "metadata": {},
   "outputs": [
    {
     "name": "stdout",
     "output_type": "stream",
     "text": [
      "<class 'list'>\n",
      "[]\n",
      "[666]\n",
      "[2, 3, 4, 5, 6]\n",
      "<class 'list'>\n",
      "[]\n"
     ]
    }
   ],
   "source": [
    "# 创建一个空列表\n",
    "l1= []\n",
    "print(type(l1))\n",
    "print(l1)\n",
    "\n",
    "# 创建一个带值的列表\n",
    "l2 = [666]\n",
    "print(l2)\n",
    "\n",
    "#创建一个带多个值的列表\n",
    "l3 = [2,3,4,5,6]\n",
    "print(l3)\n",
    "\n",
    "# 使用list()\n",
    "l4 = list()\n",
    "print(type(l4))\n",
    "print(l4)"
   ]
  },
  {
   "cell_type": "markdown",
   "metadata": {},
   "source": [
    "### 列表操作\n",
    "-  列表访问\n",
    "\n",
    "    - 下标索引，按照顺序访问。\n",
    "        - 索引是从零开始的\n",
    "    - 分片操作\n",
    "        - 分片操作是生成一个新的List\n",
    "            - 内置函数id,负责显示一个变量或者数据的唯一确定编号\n",
    "                    - # a = 100 print(id(a))\n",
    "        - 对列表进行任意一段的截取\n",
    "            - listname[开始位置 : 结束位置]\n",
    "            - 包含下标开始位置的值，不包含结束位置为下标的值\n",
    "            \n",
    "        - 控制增长幅度\n",
    "            - listname[ 开始位置: 结束位置: 增长幅度]\n",
    "            - 下标可以超过范围，超出后不再考虑多余下标内容\n",
    "            - 增长幅度可以是负数，负数表示从右往左，最后一个数的下标是-1，参看例子\n",
    "                - 为list的正反颠倒提供了一种思路"
   ]
  },
  {
   "cell_type": "code",
   "execution_count": 2,
   "metadata": {},
   "outputs": [
    {
     "name": "stdout",
     "output_type": "stream",
     "text": [
      "1\n",
      "2\n",
      "3\n",
      "4\n",
      "5\n",
      "6\n",
      "7\n",
      "8\n",
      "9\n"
     ]
    }
   ],
   "source": [
    "\n",
    "# 下标访问列表\n",
    "l = [1,2,3,4,5,6,7,8,9]\n",
    "for i in range(0,9):\n",
    "    print(l[i])"
   ]
  },
  {
   "cell_type": "code",
   "execution_count": 13,
   "metadata": {},
   "outputs": [
    {
     "name": "stdout",
     "output_type": "stream",
     "text": [
      "[1, 2, 3, 4, 5]\n",
      "[1, 2, 3, 4, 5, 6, 7, 8, 9]\n",
      "[1, 4, 7]\n",
      "[1, 3, 5, 7, 9]\n",
      "9\n",
      "[9, 6, 3]\n",
      "[]\n",
      "[6, 7]\n",
      "[8, 7]\n"
     ]
    }
   ],
   "source": [
    "# 分片操作\n",
    "print(l[0 : 5])\n",
    "# 下标可以为空。默认是左边为0，右边下标志最大数+1\n",
    "print(l[:])\n",
    "# 也可以省略一边，因为不写的话都有默认值的，不慌\n",
    "\n",
    "#增长幅度\n",
    "print(l[::3])\n",
    "\n",
    "# 下标可以超过范围，超出后不再考虑多余下标内容\n",
    "print(l[-1000:1000:2])\n",
    "\n",
    "# 下标值，增长幅度可以为负数。表示顺序是从右往左，数组最后一个数字的下标是-1\n",
    "print(l[-1])   # 打印一手最后一个数字\n",
    "print(l[::-3]) # 倒着打印\n",
    "\n",
    "print(l[-2:-4]) # 此处显示为空，原因是分片操作默认是从左向右的\n",
    "print(l[-4:-2]) # 也就是说，左边的值要小于右边的值\n",
    "print(l[-2:-4:-1]) # 变体"
   ]
  },
  {
   "cell_type": "code",
   "execution_count": 16,
   "metadata": {},
   "outputs": [
    {
     "name": "stdout",
     "output_type": "stream",
     "text": [
      "140735383576480\n",
      "140735383579680\n",
      "140735383576480\n",
      "101\n",
      "100\n"
     ]
    }
   ],
   "source": [
    "# id函数具体\n",
    "a = 100\n",
    "b = 200\n",
    "print(id(a))\n",
    "print(id(b))\n",
    "# 如果a 与c 共享一份数据，则更改a的值同样会改变c的值\n",
    "# 但是，显示结果并非如此。为什么？\n",
    "c = a\n",
    "print(id(c))\n",
    "a = 101\n",
    "print(a)\n",
    "print(c)"
   ]
  },
  {
   "cell_type": "code",
   "execution_count": 17,
   "metadata": {},
   "outputs": [
    {
     "name": "stdout",
     "output_type": "stream",
     "text": [
      "1851545646728\n",
      "1851545646920\n"
     ]
    }
   ],
   "source": [
    "# 通过id 观察分片操作\n",
    "l = [22,2,2,54,6,7]\n",
    "ll = l[:]\n",
    "# 两者id不同，表明分片操作是从新生成一份数据，即一个新的列表，把数据拷贝的新列表中 \n",
    "print(id(l))\n",
    "print(id(ll))"
   ]
  },
  {
   "cell_type": "code",
   "execution_count": null,
   "metadata": {},
   "outputs": [],
   "source": []
  },
  {
   "cell_type": "code",
   "execution_count": null,
   "metadata": {},
   "outputs": [],
   "source": []
  },
  {
   "cell_type": "code",
   "execution_count": null,
   "metadata": {},
   "outputs": [],
   "source": []
  },
  {
   "cell_type": "code",
   "execution_count": null,
   "metadata": {},
   "outputs": [],
   "source": []
  },
  {
   "cell_type": "code",
   "execution_count": null,
   "metadata": {},
   "outputs": [],
   "source": []
  },
  {
   "cell_type": "code",
   "execution_count": null,
   "metadata": {},
   "outputs": [],
   "source": []
  },
  {
   "cell_type": "code",
   "execution_count": null,
   "metadata": {},
   "outputs": [],
   "source": []
  },
  {
   "cell_type": "code",
   "execution_count": null,
   "metadata": {},
   "outputs": [],
   "source": []
  },
  {
   "cell_type": "code",
   "execution_count": null,
   "metadata": {},
   "outputs": [],
   "source": []
  },
  {
   "cell_type": "code",
   "execution_count": null,
   "metadata": {},
   "outputs": [],
   "source": []
  },
  {
   "cell_type": "code",
   "execution_count": null,
   "metadata": {},
   "outputs": [],
   "source": []
  },
  {
   "cell_type": "code",
   "execution_count": null,
   "metadata": {},
   "outputs": [],
   "source": []
  },
  {
   "cell_type": "code",
   "execution_count": null,
   "metadata": {},
   "outputs": [],
   "source": []
  }
 ],
 "metadata": {
  "kernelspec": {
   "display_name": "Python 3",
   "language": "python",
   "name": "python3"
  },
  "language_info": {
   "codemirror_mode": {
    "name": "ipython",
    "version": 3
   },
   "file_extension": ".py",
   "mimetype": "text/x-python",
   "name": "python",
   "nbconvert_exporter": "python",
   "pygments_lexer": "ipython3",
   "version": "3.7.3"
  }
 },
 "nbformat": 4,
 "nbformat_minor": 2
}
