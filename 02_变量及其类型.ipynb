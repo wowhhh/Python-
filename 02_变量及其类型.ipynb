{
 "cells": [
  {
   "cell_type": "markdown",
   "metadata": {},
   "source": [
    "# 注释\n",
    "- 写法：\n",
    "    - 行注释：# \n",
    "    - 块注释：'''  '''"
   ]
  },
  {
   "cell_type": "code",
   "execution_count": 1,
   "metadata": {},
   "outputs": [
    {
     "data": {
      "text/plain": [
       "'\\n块注释\\n测试\\n'"
      ]
     },
     "execution_count": 1,
     "metadata": {},
     "output_type": "execute_result"
    }
   ],
   "source": [
    "#行注释测试\n",
    "'''\n",
    "块注释\n",
    "测试\n",
    "'''"
   ]
  },
  {
   "cell_type": "markdown",
   "metadata": {},
   "source": [
    "# 变量\n",
    "- 程序=数据结构+算法\n",
    "- 变量就是可以重复使用的一个量，或者称为一个代号。java中定义一个变量（int i）\n",
    "    - 数字，大小写字母以及下划线或者更多。尽量用数字和字母以及下划线。\n",
    "    - 数字不可以打头。\n",
    "    - 一般下划线具有特殊含义。\n",
    "    - 大小写敏感\n",
    "    - 推荐：\n",
    "        - 使用英文单词以及缩写。\n",
    "        - 驼峰命名法：\n",
    "            - 大驼峰：单词链接，每个单词首字母大写。一般给类命名用这个方法。\n",
    "            - 小驼峰：首字母大写即可。\n",
    "            - posix写法：单词下划线连接，全部小写。\n",
    "    - 保留字和关键字\n",
    "        - 避开\n",
    "        - class, def, break, for"
   ]
  },
  {
   "cell_type": "code",
   "execution_count": 2,
   "metadata": {},
   "outputs": [
    {
     "name": "stdout",
     "output_type": "stream",
     "text": [
      "['False', 'None', 'True', 'and', 'as', 'assert', 'break', 'class', 'continue', 'def', 'del', 'elif', 'else', 'except', 'finally', 'for', 'from', 'global', 'if', 'import', 'in', 'is', 'lambda', 'nonlocal', 'not', 'or', 'pass', 'raise', 'return', 'try', 'while', 'with', 'yield']\n"
     ]
    }
   ],
   "source": [
    "#查看关键字的方法\n",
    "import keyword #引入关键字的模块\n",
    "#打印出系统全部关键字\n",
    "print(keyword.kwlist)"
   ]
  },
  {
   "cell_type": "markdown",
   "metadata": {},
   "source": [
    "# 变量声明\n",
    "- var_name = var_value\n",
    "- var1 = var2 = var3 = var_value"
   ]
  },
  {
   "cell_type": "code",
   "execution_count": 5,
   "metadata": {},
   "outputs": [
    {
     "name": "stdout",
     "output_type": "stream",
     "text": [
      "18\n",
      "18\n",
      "18\n",
      "18\n",
      "18\n",
      "12\n",
      "21\n",
      "46\n"
     ]
    }
   ],
   "source": [
    "#定义变量age,把18放入变量age\n",
    "age=18\n",
    "print(age)\n",
    "print(18)\n",
    "\n",
    "#给age1,age2,age3放入同样一个值\n",
    "age1=age2=age3=18\n",
    "print(age1)\n",
    "print(age2)\n",
    "print(age3)\n",
    "\n",
    "#一次给三个变量复制\n",
    "age4, age5, age6=12,21,46\n",
    "print(age4)\n",
    "print(age5)\n",
    "print(age6)"
   ]
  },
  {
   "cell_type": "markdown",
   "metadata": {},
   "source": [
    "# # 变量类型\n",
    "- 严格意义：一种\n",
    "- 六种\n",
    "    - 数字类型 Number\n",
    "    - 字符串类型 str\n",
    "    - 列表类型 list\n",
    "    - 字典类型 Dictionary\n",
    "    - 集合类型 set\n",
    "    - 元祖类型 tuple"
   ]
  },
  {
   "cell_type": "markdown",
   "metadata": {},
   "source": [
    "## Number 数字类型\n",
    "- 数字类型没有大小限制\n",
    "### 整数\n",
    "- 没有小数部分，表示个数\n",
    "- 自然数，0，负自然数\n",
    "- 分进制\n",
    "    - 二进制\n",
    "        - 机器常用，0,1\n",
    "        - 表示为0b开头的01代码\n",
    "        - eg:0b01101\n",
    "    - 八进制\n",
    "        - 以0o开头的包含0-7的数字\n",
    "    - 十六进制\n",
    "        - 0-9，a-f\n",
    "        - 0x开头\n",
    "    - 十进制"
   ]
  },
  {
   "cell_type": "code",
   "execution_count": 8,
   "metadata": {},
   "outputs": [
    {
     "name": "stdout",
     "output_type": "stream",
     "text": [
      "22\n",
      "22\n",
      "22\n",
      "22\n"
     ]
    }
   ],
   "source": [
    "#整数\n",
    "age=22\n",
    "print(age)\n",
    "age=0b10110#二进制表示22这个数字\n",
    "print(age)\n",
    "age=0o26\n",
    "print(age)\n",
    "age=0x16\n",
    "print(age)"
   ]
  },
  {
   "cell_type": "markdown",
   "metadata": {},
   "source": [
    "### 浮点数\n",
    "- 小数\n",
    "- 计算机里表示浮点数可以有条件省略\n",
    "- 3.1415\n",
    "- 3.0也可以表示为3.\n",
    "- 0.5也可以表示为.5\n",
    "- 科学计数法\n",
    "    - 与数学定义一样\n",
    "    - 写法用e/E后边跟整数表示10的指数\n",
    "    - 176.34=1.7634e2\n",
    "    - 0.5324=5.324e-1"
   ]
  },
  {
   "cell_type": "code",
   "execution_count": 9,
   "metadata": {},
   "outputs": [
    {
     "name": "stdout",
     "output_type": "stream",
     "text": [
      "145.68\n",
      "0.2\n",
      "0.3\n"
     ]
    }
   ],
   "source": [
    "height=145.68\n",
    "print(height)\n",
    "\n",
    "sight=0.2\n",
    "print(sight)\n",
    "sight2=.3\n",
    "print(sight2)"
   ]
  },
  {
   "cell_type": "markdown",
   "metadata": {},
   "source": [
    "### 复数complex\n",
    "- 定义同数学\n",
    "- 实部加虚部\n",
    "- 虚部用j/J表示\n",
    "- 5+3j\n",
    "- 3j 省略实部"
   ]
  },
  {
   "cell_type": "markdown",
   "metadata": {},
   "source": [
    "### 布尔值\n",
    "- 表示真假的值\n",
    "- 真：True。1\n",
    "- 假：False。0\n",
    "- 写法唯一，首字母大写"
   ]
  },
  {
   "cell_type": "markdown",
   "metadata": {},
   "source": [
    "### 字符串\n",
    "- 用来表示一串文字信息\n",
    "- 表示方法：\n",
    "    - 单引号\n",
    "    - 双引号\n",
    "    - 三引号（三个单引号，三个双引号）\n",
    "        - 能够扩起多行信息\n",
    "- 单双引号交错使用"
   ]
  },
  {
   "cell_type": "code",
   "execution_count": 5,
   "metadata": {},
   "outputs": [
    {
     "name": "stdout",
     "output_type": "stream",
     "text": [
      "shuang yin hao\n",
      "双引号\n",
      "dan yin hao\n",
      "单引号\n",
      "san dan yin hao\n",
      "<a style=\"color:red\">哈哈哈</a>\n",
      "\n",
      "多\n",
      "行\n",
      "测\n",
      "试\n",
      "\n"
     ]
    }
   ],
   "source": [
    "string1=\"shuang yin hao\"\n",
    "print(string1)\n",
    "string2=\"双引号\"\n",
    "print(string2)\n",
    "string3='dan yin hao'\n",
    "print(string3)\n",
    "string4='单引号'\n",
    "print(string4)\n",
    "string5='''san dan yin hao'''\n",
    "print(string5)\n",
    "#单双引号交错使用的例子,emmm转义\n",
    "#<a style=\"color:red\">哈哈哈</a>\n",
    "html='<a style=\"color:red\">哈哈哈</a>'\n",
    "print(html)\n",
    "htmls=\"\"\"\n",
    "多\n",
    "行\n",
    "测\n",
    "试\n",
    "\"\"\"\n",
    "print(htmls)"
   ]
  },
  {
   "cell_type": "markdown",
   "metadata": {
    "collapsed": true
   },
   "source": [
    "# None类型\n",
    "- 表示什么都没有，通常用来占位\n",
    "- 返回值"
   ]
  },
  {
   "cell_type": "code",
   "execution_count": null,
   "metadata": {
    "collapsed": true
   },
   "outputs": [],
   "source": []
  }
 ],
 "metadata": {
  "kernelspec": {
   "display_name": "Python 3",
   "language": "python",
   "name": "python3"
  },
  "language_info": {
   "codemirror_mode": {
    "name": "ipython",
    "version": 3
   },
   "file_extension": ".py",
   "mimetype": "text/x-python",
   "name": "python",
   "nbconvert_exporter": "python",
   "pygments_lexer": "ipython3",
   "version": "3.6.3"
  }
 },
 "nbformat": 4,
 "nbformat_minor": 2
}
