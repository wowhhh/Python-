{
 "cells": [
  {
   "cell_type": "markdown",
   "metadata": {},
   "source": [
    "# 函数\n",
    "- 函数是代码的一种组织形式\n",
    "- 函数应该能够完成一项特定的功能，一个函数一般仅仅完成一项工作\n",
    "- 函数内代码不应该太多，一般一屏幕为准，太多就嵌套\n",
    "- 有返回结果的叫函数，无返回结果的叫过程。python中不加以区分。\n",
    "- 函数的使用\n",
    "    - 函数使用需要先定义\n",
    "    - 使用函数，俗称调用"
   ]
  },
  {
   "cell_type": "markdown",
   "metadata": {},
   "source": [
    "## 定义一个函数\n",
    "- 1. def关键字，后面跟一个空格\n",
    "- 2. 函数名，自己定义，起名需要遵循变量命名规则，约定俗成，大驼峰命名只给类名\n",
    "- 3. 后面括号和冒号不能省略，括号内可以有参数\n",
    "- 4. 函数内所有代码缩进\n",
    "\n",
    "## 调用一个函数\n",
    "- 直接写函数名字，后面小括号不能省略，括号内容根据情况\n"
   ]
  },
  {
   "cell_type": "code",
   "execution_count": 4,
   "metadata": {},
   "outputs": [
    {
     "name": "stdout",
     "output_type": "stream",
     "text": [
      "这是一个函数\n"
     ]
    }
   ],
   "source": [
    "def func():\n",
    "    print(\"这是一个函数\")\n",
    "func()"
   ]
  },
  {
   "cell_type": "markdown",
   "metadata": {},
   "source": [
    "## 函数的参数以及返回值\n",
    "- 参数：负责给函数传递一些必要的数据或者信息\n",
    "    - 形式参数：再函数定义的时候用到的参数，没有具体值，只是一个占位符号。\n",
    "    - 实际参数：在调用函数的时候输入的值，\n",
    "- 返回值：调用函数时返回的一个结果\n",
    "    - 返回值可选\n",
    "    - 使用return 返回结果\n",
    "    - 无返回值，return None\n",
    "    - Python默认返回None"
   ]
  },
  {
   "cell_type": "code",
   "execution_count": 8,
   "metadata": {},
   "outputs": [
    {
     "name": "stdout",
     "output_type": "stream",
     "text": [
      "7\n",
      "wyb\n"
     ]
    }
   ],
   "source": [
    "# 形参和实参\n",
    "def xs(a,b):\n",
    "    print(a+b)\n",
    "    \n",
    "xs(3,4)\n",
    "    \n",
    "def hello(person):\n",
    "    print(\"{0}\".format(person))\n",
    "    print(\"测试\")\n",
    "p=\"wyb\"\n",
    "hello(p)"
   ]
  },
  {
   "cell_type": "code",
   "execution_count": 5,
   "metadata": {},
   "outputs": [
    {
     "name": "stdout",
     "output_type": "stream",
     "text": [
      "5\n"
     ]
    }
   ],
   "source": [
    "def re(a):\n",
    "    return a\n",
    "b = re(5)\n",
    "print(b)\n"
   ]
  },
  {
   "cell_type": "code",
   "execution_count": 6,
   "metadata": {},
   "outputs": [
    {
     "name": "stdout",
     "output_type": "stream",
     "text": [
      "Help on built-in function print in module builtins:\n",
      "\n",
      "print(...)\n",
      "    print(value, ..., sep=' ', end='\\n', file=sys.stdout, flush=False)\n",
      "    \n",
      "    Prints the values to a stream, or to sys.stdout by default.\n",
      "    Optional keyword arguments:\n",
      "    file:  a file-like object (stream); defaults to the current sys.stdout.\n",
      "    sep:   string inserted between values, default a space.\n",
      "    end:   string appended after the last value, default a newline.\n",
      "    flush: whether to forcibly flush the stream.\n",
      "\n"
     ]
    }
   ],
   "source": [
    "# help负责随时提供帮助\n",
    "help(print)"
   ]
  },
  {
   "cell_type": "code",
   "execution_count": 21,
   "metadata": {},
   "outputs": [
    {
     "name": "stdout",
     "output_type": "stream",
     "text": [
      " 1 * 1 = 1\n",
      " 1 * 2 = 2 2 * 2 = 4\n",
      " 1 * 3 = 3 2 * 3 = 6 3 * 3 = 9\n",
      " 1 * 4 = 4 2 * 4 = 8 3 * 4 = 12 4 * 4 = 16\n",
      " 1 * 5 = 5 2 * 5 = 10 3 * 5 = 15 4 * 5 = 20 5 * 5 = 25\n",
      " 1 * 6 = 6 2 * 6 = 12 3 * 6 = 18 4 * 6 = 24 5 * 6 = 30 6 * 6 = 36\n",
      " 1 * 7 = 7 2 * 7 = 14 3 * 7 = 21 4 * 7 = 28 5 * 7 = 35 6 * 7 = 42 7 * 7 = 49\n",
      " 1 * 8 = 8 2 * 8 = 16 3 * 8 = 24 4 * 8 = 32 5 * 8 = 40 6 * 8 = 48 7 * 8 = 56 8 * 8 = 64\n",
      " 1 * 9 = 9 2 * 9 = 18 3 * 9 = 27 4 * 9 = 36 5 * 9 = 45 6 * 9 = 54 7 * 9 = 63 8 * 9 = 72 9 * 9 = 81\n"
     ]
    }
   ],
   "source": [
    "# 九九乘法表\n",
    "# v1\n",
    "def nn():\n",
    "    for i in range(1,10):\n",
    "        for j in range(1,i+1):\n",
    "            print(' ',end='')\n",
    "            print(j,end='')\n",
    "            print(' * ',end='')\n",
    "            print(i,end='')\n",
    "            print(' = ',end='')\n",
    "            print(i*j,end='')\n",
    "        print()\n",
    "    return None\n",
    "nn()"
   ]
  },
  {
   "cell_type": "markdown",
   "metadata": {},
   "source": [
    "## 参数详解\n",
    "- 分类\n",
    "    - 普通参数/位置参数\n",
    "    - 默认参数\n",
    "    - 关键字参数\n",
    "    - 收集参数（未完）\n",
    "    - https://www.cnblogs.com/bingabcd/p/6671368.html"
   ]
  },
  {
   "cell_type": "code",
   "execution_count": 22,
   "metadata": {},
   "outputs": [
    {
     "name": "stdout",
     "output_type": "stream",
     "text": [
      "3\n"
     ]
    }
   ],
   "source": [
    "# 普通参数\n",
    "def normal_para(one,two):\n",
    "    print(one+two)\n",
    "    return None\n",
    "normal_para(1,2)"
   ]
  },
  {
   "cell_type": "code",
   "execution_count": 1,
   "metadata": {},
   "outputs": [
    {
     "name": "stdout",
     "output_type": "stream",
     "text": [
      "103\n",
      "1003\n"
     ]
    }
   ],
   "source": [
    "# 默认参数实例\n",
    "def default_para(one,two,three=100):\n",
    "    print(one+two+three)\n",
    "    return None\n",
    "default_para(1,2)\n",
    "default_para(1,2,1000)"
   ]
  },
  {
   "cell_type": "markdown",
   "metadata": {},
   "source": [
    "## 关键字参数\n",
    "- 允许传入0个或者任意个含参数名的参数，这些关键字参数在函数内部自动组装成一个dict\n",
    "- 作用\n",
    "        - 扩展函数的功能"
   ]
  },
  {
   "cell_type": "code",
   "execution_count": 26,
   "metadata": {},
   "outputs": [
    {
     "name": "stdout",
     "output_type": "stream",
     "text": [
      "3\n",
      "3\n",
      "3\n",
      "3\n",
      "name= wyb age= 18 other: ()\n"
     ]
    },
    {
     "ename": "TypeError",
     "evalue": "person() got an unexpected keyword argument 'city'",
     "output_type": "error",
     "traceback": [
      "\u001b[1;31m---------------------------------------------------------------------------\u001b[0m",
      "\u001b[1;31mTypeError\u001b[0m                                 Traceback (most recent call last)",
      "\u001b[1;32m<ipython-input-26-161d529c455f>\u001b[0m in \u001b[0;36m<module>\u001b[1;34m\u001b[0m\n\u001b[0;32m     15\u001b[0m \u001b[1;33m\u001b[0m\u001b[0m\n\u001b[0;32m     16\u001b[0m \u001b[0mperson\u001b[0m\u001b[1;33m(\u001b[0m\u001b[1;34m'wyb'\u001b[0m\u001b[1;33m,\u001b[0m\u001b[1;36m18\u001b[0m\u001b[1;33m)\u001b[0m\u001b[1;33m\u001b[0m\u001b[1;33m\u001b[0m\u001b[0m\n\u001b[1;32m---> 17\u001b[1;33m \u001b[0mperson\u001b[0m\u001b[1;33m(\u001b[0m\u001b[1;34m'wyb'\u001b[0m\u001b[1;33m,\u001b[0m\u001b[1;36m19\u001b[0m\u001b[1;33m,\u001b[0m\u001b[0mcity\u001b[0m \u001b[1;33m=\u001b[0m \u001b[1;34m'beiging'\u001b[0m\u001b[1;33m)\u001b[0m\u001b[1;33m\u001b[0m\u001b[1;33m\u001b[0m\u001b[0m\n\u001b[0m\u001b[0;32m     18\u001b[0m \u001b[0mperson\u001b[0m\u001b[1;33m(\u001b[0m\u001b[1;34m'wyb'\u001b[0m\u001b[1;33m,\u001b[0m\u001b[1;36m19\u001b[0m\u001b[1;33m,\u001b[0m\u001b[0mcity\u001b[0m \u001b[1;33m=\u001b[0m \u001b[1;34m'beiging'\u001b[0m\u001b[1;33m,\u001b[0m\u001b[0mgender\u001b[0m\u001b[1;33m=\u001b[0m\u001b[1;34m'man'\u001b[0m\u001b[1;33m)\u001b[0m\u001b[1;31m#可以传入任意个关键字参数\u001b[0m\u001b[1;33m\u001b[0m\u001b[1;33m\u001b[0m\u001b[0m\n",
      "\u001b[1;31mTypeError\u001b[0m: person() got an unexpected keyword argument 'city'"
     ]
    }
   ],
   "source": [
    "# 关键字参数  示例1\n",
    "def keys_para(one,two,three):\n",
    "    print(one+two)\n",
    "    print(three)\n",
    "    return None\n",
    "\n",
    "keys_para(one=1,two=2,three=3)\n",
    "keys_para(three=3,two=2,one=1)\n",
    "# 不容易混淆，一般实参和形参只是按照位置进行对应，容易出错\n",
    "# 可以不考虑参数位置\n",
    "\n",
    "# 关键字参数 示例2\n",
    "def person(name,age,**kw):\n",
    "    print('name=',name,'age=',age,'other:',kw)\n",
    "    \n",
    "person('wyb',18)\n",
    "person('wyb',19,city = 'beiging')\n",
    "person('wyb',19,city = 'beiging',gender='man')#可以传入任意个关键字参数"
   ]
  },
  {
   "cell_type": "code",
   "execution_count": null,
   "metadata": {},
   "outputs": [],
   "source": []
  },
  {
   "cell_type": "markdown",
   "metadata": {},
   "source": [
    "### 命名关键字参数\n",
    "- 对于关键字参数，函数的调用者可以传入任意不受限制的关键字参数，但是到底传入了哪些，还是需要在函数内部进行检查，如上例，通过kw检查\n",
    "- 使用命名关键字参数时，要特别注意，如果没有可变参数，就必须加一个*作为特殊分隔符。如果缺少*，Python解释器将无法识别位置参数和命名关键字参数"
   ]
  },
  {
   "cell_type": "code",
   "execution_count": 25,
   "metadata": {},
   "outputs": [
    {
     "name": "stdout",
     "output_type": "stream",
     "text": [
      "wyb 21 ln man\n",
      "wyb 21 ln man\n"
     ]
    }
   ],
   "source": [
    "# 命名关键字参数实例\n",
    "## 在函数内部检查\n",
    "def person(name,age,**kw):\n",
    "    if 'city' in kw:\n",
    "        pass\n",
    "    if 'gender' in kw:\n",
    "        pass\n",
    "    print('name=',name,'age=',age,'other:',kw)\n",
    "    \n",
    "## 直接限制关键字参数的名字，例如，只接收city和gender作为关键字参数\n",
    "def person(name,age,*,city,gender):\n",
    "    print(name,age,city,gender)\n",
    "person('wyb',21,city = 'ln',gender = 'man')  #命名关键字参数必须传入参数名，这和位置参数不同。如果没有传入参数名，调用将报错：\n",
    "\n",
    "## 上例改变，如果函数定义中已经有了一个可变参数，后面跟着的命名关键字就不再需要一个同上面一样的特殊分隔符*了\n",
    "def person(name,age,*args,city,gender):\n",
    "    print(name,age,city,gender)\n",
    "person('wyb',21,city = 'ln',gender = 'man')"
   ]
  },
  {
   "cell_type": "code",
   "execution_count": null,
   "metadata": {},
   "outputs": [],
   "source": []
  },
  {
   "cell_type": "markdown",
   "metadata": {},
   "source": [
    "## 收集参数/可变参数\n",
    "- 传入的参数个数是可变的，因为参数个数的不确定，所以可以把多个参数作为一个List或者tuple传进来\n",
    "- 把没有位置，不能和定义时的参数位置相应的参数，放入一个特定的数据结构中\n",
    "- 语法\n",
    "            \n",
    "            def  fun(*args):\n",
    "                func_body\n",
    "                按照list使用方式访问args得到传入参数\n",
    "            调用：\n",
    "            fun(p1,p2,p3...)\n",
    "- 参数名args不是必须这么写，但是推荐这么写\n",
    "- 参数名args前需要有星号 *，表明这是一个收集参数\n",
    "- 收集参数可以和其他参数并存"
   ]
  },
  {
   "cell_type": "code",
   "execution_count": 24,
   "metadata": {},
   "outputs": [
    {
     "name": "stdout",
     "output_type": "stream",
     "text": [
      "hi\n",
      "<class 'tuple'>\n",
      "wyb\n",
      "19\n",
      "sh\n",
      "cz\n",
      "hi\n",
      "<class 'tuple'>\n",
      "cz\n",
      "18\n",
      "zz\n",
      "wyb\n",
      "hi\n",
      "<class 'tuple'>\n"
     ]
    }
   ],
   "source": [
    "# 收集参数\n",
    "# 模拟学生自我介绍，具体的内容不清楚\n",
    "# args把它看做一个list \n",
    "def stu(*args):\n",
    "    print(\"hi\")\n",
    "    # type函数检测变量类型\n",
    "    print(type(args))\n",
    "    for item in args: \n",
    "        print(item)\n",
    "    pass\n",
    "\n",
    "stu('wyb',19,'sh','cz')\n",
    "stu('cz',18,'zz','wyb')\n",
    "stu()"
   ]
  },
  {
   "cell_type": "markdown",
   "metadata": {},
   "source": [
    "### 收集参数之关键字收集参数\n",
    "- 把关键字参数按照字典格式存入收集参数\n",
    "- 语法：\n",
    "        \n",
    "        def fun( **kwargs):\n",
    "            func_body\n",
    "        # 调用：\n",
    "        func(p1=v1,p2=v2,....... )\n",
    "        \n",
    "- 调用的时候，把多余的关键字参数放入kwargs\n",
    "- 访问kwagrs要按照字典的格式进行访问"
   ]
  },
  {
   "cell_type": "code",
   "execution_count": 27,
   "metadata": {},
   "outputs": [],
   "source": [
    "# 收集参数案例\n",
    "def stu(**kwargs):\n",
    "    pass\n",
    "\n",
    "stu(name='wyb',age='21',gender='man')"
   ]
  },
  {
   "cell_type": "code",
   "execution_count": null,
   "metadata": {},
   "outputs": [],
   "source": []
  },
  {
   "cell_type": "markdown",
   "metadata": {},
   "source": [
    "## 参数组合\n",
    "- 参数定义的顺序：位置参数，默认参数，可变参数，命名关键字参数，关键字参数"
   ]
  },
  {
   "cell_type": "code",
   "execution_count": 23,
   "metadata": {},
   "outputs": [
    {
     "name": "stdout",
     "output_type": "stream",
     "text": [
      "product(5) = 5\n",
      "product(5, 6) = 30\n",
      "product(5, 6, 7) = 210\n",
      "product(5, 6, 7, 9) = 1890\n",
      "测试成功!\n"
     ]
    }
   ],
   "source": [
    "# 写一个函数，用于接受多个参数，并计算乘积\n",
    "def product(*args):\n",
    "    sum = 1\n",
    "    if len(args) == 0:\n",
    "        raise TypeError\n",
    "    for item in args:\n",
    "        sum  =sum * item\n",
    "  \n",
    "    return sum\n",
    "# 测试\n",
    "print('product(5) =', product(5))\n",
    "print('product(5, 6) =', product(5, 6))\n",
    "print('product(5, 6, 7) =', product(5, 6, 7))\n",
    "print('product(5, 6, 7, 9) =', product(5, 6, 7, 9))\n",
    "if product(5) != 5:\n",
    "    print('测试失败!')\n",
    "elif product(5, 6) != 30:\n",
    "    print('测试失败!')\n",
    "elif product(5, 6, 7) != 210:\n",
    "    print('测试失败!')\n",
    "elif product(5, 6, 7, 9) != 1890:\n",
    "    print('测试失败!')\n",
    "else:\n",
    "    try:\n",
    "        product()\n",
    "        print('测试失败!')\n",
    "    except TypeError:\n",
    "        print('测试成功!')"
   ]
  }
 ],
 "metadata": {
  "kernelspec": {
   "display_name": "Python 3",
   "language": "python",
   "name": "python3"
  },
  "language_info": {
   "codemirror_mode": {
    "name": "ipython",
    "version": 3
   },
   "file_extension": ".py",
   "mimetype": "text/x-python",
   "name": "python",
   "nbconvert_exporter": "python",
   "pygments_lexer": "ipython3",
   "version": "3.7.3"
  }
 },
 "nbformat": 4,
 "nbformat_minor": 2
}
