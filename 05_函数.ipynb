{
 "cells": [
  {
   "cell_type": "markdown",
   "metadata": {},
   "source": [
    "# 函数\n",
    "- 函数是代码的一种组织形式\n",
    "- 函数应该能够完成一项特定的功能，一个函数一般仅仅完成一项工作\n",
    "- 函数内代码不应该太多，一般一屏幕为准，太多就嵌套\n",
    "- 有返回结果的叫函数，无返回结果的叫过程。python中不加以区分。\n",
    "- 函数的使用\n",
    "    - 函数使用需要先定义\n",
    "    - 使用函数，俗称调用"
   ]
  },
  {
   "cell_type": "markdown",
   "metadata": {},
   "source": [
    "## 定义一个函数\n",
    "- 1. def关键字，后面跟一个空格\n",
    "- 2. 函数名，自己定义，起名需要遵循变量命名规则，约定俗成，大驼峰命名只给类名\n",
    "- 3. 后面括号和冒号不能省略，括号内可以有参数\n",
    "- 4. 函数内所有代码缩进\n",
    "\n",
    "## 调用一个函数\n",
    "- 直接写函数名字，后面小括号不能省略，括号内容根据情况\n"
   ]
  },
  {
   "cell_type": "code",
   "execution_count": 4,
   "metadata": {},
   "outputs": [
    {
     "name": "stdout",
     "output_type": "stream",
     "text": [
      "这是一个函数\n"
     ]
    }
   ],
   "source": [
    "def func():\n",
    "    print(\"这是一个函数\")\n",
    "func()"
   ]
  },
  {
   "cell_type": "markdown",
   "metadata": {},
   "source": [
    "## 函数的参数以及返回值\n",
    "- 参数：负责给函数传递一些必要的数据或者信息\n",
    "    - 形式参数：再函数定义的时候用到的参数，没有具体值，只是一个占位符号。\n",
    "    - 实际参数：在调用函数的时候输入的值，\n",
    "- 返回值：调用函数时返回的一个结果"
   ]
  },
  {
   "cell_type": "code",
   "execution_count": 8,
   "metadata": {},
   "outputs": [
    {
     "name": "stdout",
     "output_type": "stream",
     "text": [
      "7\n",
      "wyb\n"
     ]
    }
   ],
   "source": [
    "# 形参和实参\n",
    "def xs(a,b):\n",
    "    print(a+b)\n",
    "    \n",
    "xs(3,4)\n",
    "    \n",
    "def hello(person):\n",
    "    print(\"{0}\".format(person))\n",
    "    print(\"测试\")\n",
    "p=\"wyb\"\n",
    "hello(p)"
   ]
  },
  {
   "cell_type": "code",
   "execution_count": null,
   "metadata": {},
   "outputs": [],
   "source": []
  },
  {
   "cell_type": "code",
   "execution_count": null,
   "metadata": {},
   "outputs": [],
   "source": []
  },
  {
   "cell_type": "code",
   "execution_count": null,
   "metadata": {},
   "outputs": [],
   "source": []
  },
  {
   "cell_type": "code",
   "execution_count": null,
   "metadata": {},
   "outputs": [],
   "source": []
  },
  {
   "cell_type": "code",
   "execution_count": null,
   "metadata": {},
   "outputs": [],
   "source": []
  },
  {
   "cell_type": "code",
   "execution_count": null,
   "metadata": {},
   "outputs": [],
   "source": []
  }
 ],
 "metadata": {
  "kernelspec": {
   "display_name": "Python 3",
   "language": "python",
   "name": "python3"
  },
  "language_info": {
   "codemirror_mode": {
    "name": "ipython",
    "version": 3
   },
   "file_extension": ".py",
   "mimetype": "text/x-python",
   "name": "python",
   "nbconvert_exporter": "python",
   "pygments_lexer": "ipython3",
   "version": "3.7.3"
  }
 },
 "nbformat": 4,
 "nbformat_minor": 2
}
