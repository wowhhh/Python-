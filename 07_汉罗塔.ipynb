{
 "cells": [
  {
   "cell_type": "markdown",
   "metadata": {},
   "source": [
    "# 汉诺塔问题\n",
    "- 每次只能移动一个盘子\n",
    "- 任何一次移动，三个塔的状态，必须是小盘子在上，大盘子在下\n",
    "\n",
    "        - n=1时候   A->C\n",
    "        - n=2时候   A->B  A->C  B->C  借助B盘\n",
    "        - n=3时候   \n",
    "                - 把A上的两个盘子，通过c移动到b上\n",
    "                - 把A的大盘子，移动到C上\n",
    "                - 把B上两个盘子借助A移动到C上\n",
    "        - n=n时候\n",
    "                - 把A上的n-1个盘子，借助C移动到B上\n",
    "                - 把A上的最大盘子，移动到C上\n",
    "                - B上n-1个盘子借助A移动到B上"
   ]
  },
  {
   "cell_type": "code",
   "execution_count": 9,
   "metadata": {},
   "outputs": [
    {
     "name": "stdout",
     "output_type": "stream",
     "text": [
      "A --> C\n",
      "A --> B\n",
      "C --> B\n",
      "A --> C\n",
      "B --> A\n",
      "B --> C\n",
      "A --> C\n"
     ]
    }
   ],
   "source": [
    "def hano(n,a,b,c):\n",
    "    '''\n",
    "    n:几个盘子\n",
    "    a:第一个盘子\n",
    "    b:第二个盘子\n",
    "    c:第三个盘子\n",
    "    '''\n",
    "    if n == 1:\n",
    "        print(a,'-->',c)\n",
    "        return None\n",
    "    if n == 2:\n",
    "        print(a,'-->',b)\n",
    "        print(a,\"-->\",c)\n",
    "        print(b,\"-->\",c)\n",
    "        return None\n",
    "    hano(n-1,a,c,b) # 把n-1个盘子，a上面的盘子借助c移动到d上\n",
    "    print(a,\"-->\",c)# 剩下的一个挪到c上\n",
    "    hano(n-1,b,a,c) # 把b上面的n-1个盘子借助a移动到c上\n",
    "    \n",
    "a = \"A\"\n",
    "b = \"B\"\n",
    "c = \"C\"\n",
    "#hano(1,a,b,c)\n",
    "#hano(2,a,b,c)\n",
    "hano(3,a,b,c)"
   ]
  },
  {
   "cell_type": "code",
   "execution_count": null,
   "metadata": {},
   "outputs": [],
   "source": []
  },
  {
   "cell_type": "code",
   "execution_count": null,
   "metadata": {},
   "outputs": [],
   "source": []
  },
  {
   "cell_type": "code",
   "execution_count": null,
   "metadata": {},
   "outputs": [],
   "source": []
  },
  {
   "cell_type": "code",
   "execution_count": null,
   "metadata": {},
   "outputs": [],
   "source": []
  },
  {
   "cell_type": "code",
   "execution_count": null,
   "metadata": {},
   "outputs": [],
   "source": []
  },
  {
   "cell_type": "code",
   "execution_count": null,
   "metadata": {},
   "outputs": [],
   "source": []
  },
  {
   "cell_type": "code",
   "execution_count": null,
   "metadata": {},
   "outputs": [],
   "source": []
  },
  {
   "cell_type": "code",
   "execution_count": null,
   "metadata": {},
   "outputs": [],
   "source": []
  },
  {
   "cell_type": "code",
   "execution_count": null,
   "metadata": {},
   "outputs": [],
   "source": []
  }
 ],
 "metadata": {
  "kernelspec": {
   "display_name": "Python 3",
   "language": "python",
   "name": "python3"
  },
  "language_info": {
   "codemirror_mode": {
    "name": "ipython",
    "version": 3
   },
   "file_extension": ".py",
   "mimetype": "text/x-python",
   "name": "python",
   "nbconvert_exporter": "python",
   "pygments_lexer": "ipython3",
   "version": "3.7.3"
  }
 },
 "nbformat": 4,
 "nbformat_minor": 2
}
