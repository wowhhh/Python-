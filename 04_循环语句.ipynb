{
 "cells": [
  {
   "cell_type": "markdown",
   "metadata": {},
   "source": [
    "# 循环语句\n",
    "- 重复执行\n",
    "- 分类\n",
    "    - for \n",
    "    - while"
   ]
  },
  {
   "cell_type": "markdown",
   "metadata": {},
   "source": [
    "## for循环\n",
    "- 语法\n",
    "        \n",
    "        for 变量 in 序列:\n",
    "            语句1\n",
    "            语句2\n",
    "            ..."
   ]
  },
  {
   "cell_type": "code",
   "execution_count": 5,
   "metadata": {},
   "outputs": [
    {
     "name": "stdout",
     "output_type": "stream",
     "text": [
      "1\n",
      "2\n",
      "3\n",
      "4\n",
      "5\n",
      "6\n",
      "7\n"
     ]
    }
   ],
   "source": [
    "# 列表后面学\n",
    "# [1,2,3,4,5,6,7]\n",
    "list_for1 =[1,2,3,4,5,6,7]\n",
    "for i in list_for1:\n",
    "    print(i)\n",
    "    "
   ]
  },
  {
   "cell_type": "markdown",
   "metadata": {},
   "source": [
    "## for-else 语句\n",
    "- for循环结束的时候，有时候需要执行一些收尾工作，此时需要使用false语句\n",
    "- else语句是可选的操作\n"
   ]
  },
  {
   "cell_type": "code",
   "execution_count": 8,
   "metadata": {},
   "outputs": [
    {
     "name": "stdout",
     "output_type": "stream",
     "text": [
      "我姓王\n",
      "不是姓氏\n",
      "不是姓氏\n",
      "omg\n"
     ]
    }
   ],
   "source": [
    "# for-else实例\n",
    "stus = ['王','毅','博']\n",
    "for stu in stus :\n",
    "    if stu == '王' :\n",
    "        print(\"我姓王\")\n",
    "    else :\n",
    "        print(\"不是姓氏\")\n",
    "else :\n",
    "    print(\"omg\")"
   ]
  },
  {
   "cell_type": "markdown",
   "metadata": {},
   "source": [
    "## break, continue,pass\n",
    "- break：循环猝死\n",
    "    - 直接跳出循环\n",
    "- continue：继续\n",
    "    - 跳出本次循环\n",
    "- pass\n",
    "    - 只是占位符号\n",
    "    - 不是跳过，就占个位置，啥也不干。"
   ]
  },
  {
   "cell_type": "code",
   "execution_count": 14,
   "metadata": {},
   "outputs": [
    {
     "name": "stdout",
     "output_type": "stream",
     "text": [
      "还小\n"
     ]
    }
   ],
   "source": [
    "#pass案例1\n",
    "\n",
    "# 下面这个情况不好使\n",
    "'''age = 19\n",
    "if age > 19:\n",
    "    \n",
    "else :\n",
    "    print(\"还小\")\n",
    "'''\n",
    "age = 19\n",
    "if age > 19:\n",
    "    pass\n",
    "else :\n",
    "    print(\"还小\")"
   ]
  },
  {
   "cell_type": "code",
   "execution_count": 17,
   "metadata": {},
   "outputs": [
    {
     "name": "stdout",
     "output_type": "stream",
     "text": [
      "1\n",
      "2\n",
      "3\n",
      "4\n",
      "5\n"
     ]
    }
   ],
   "source": [
    "#pass案例2\n",
    "ages = [1,2,3,4,5]\n",
    "for age in ages:\n",
    "    pass\n",
    "    print(age)"
   ]
  },
  {
   "cell_type": "markdown",
   "metadata": {},
   "source": [
    "## range函数\n",
    "- 生成有序数列\n",
    "- 生成的数字队列可以定制，从哪里开始到哪里结束\n",
    "- 生成的序列是左包括 右不包括的。！！！！！！！！！！！！"
   ]
  },
  {
   "cell_type": "code",
   "execution_count": 20,
   "metadata": {},
   "outputs": [
    {
     "name": "stdout",
     "output_type": "stream",
     "text": [
      "1\n",
      "2\n",
      "3\n",
      "4\n",
      "5\n",
      "6\n",
      "7\n",
      "8\n",
      "9\n"
     ]
    }
   ],
   "source": [
    "# range实例\n",
    "dig_list = range(1,10) #生成从1到10的数字\n",
    "for i in dig_list:\n",
    "    print(i)\n",
    "    \n",
    "    \n",
    "# range实例2 一般都是左包括右不包括，randint是个特例\n",
    "# range函数在python2.x与python3.x中有区别，此处是python3"
   ]
  },
  {
   "cell_type": "markdown",
   "metadata": {},
   "source": [
    "## while循环\n",
    "- 一个循环语句，for循环经常用于循环次数是固定的。\n",
    "- 表示当条件成立的时候，就进行循环，适用于不知道具体的循环次数，但能确定循环结束条件。\n",
    "- while语法：\n",
    "    \n",
    "        while 表达式：\n",
    "            语句块\n",
    "        \n",
    "        #另一种\n",
    "        while 表达式：\n",
    "            语句块1\n",
    "        else\n",
    "            语句块2"
   ]
  }
 ],
 "metadata": {
  "kernelspec": {
   "display_name": "Python 3",
   "language": "python",
   "name": "python3"
  },
  "language_info": {
   "codemirror_mode": {
    "name": "ipython",
    "version": 3
   },
   "file_extension": ".py",
   "mimetype": "text/x-python",
   "name": "python",
   "nbconvert_exporter": "python",
   "pygments_lexer": "ipython3",
   "version": "3.7.3"
  }
 },
 "nbformat": 4,
 "nbformat_minor": 2
}
